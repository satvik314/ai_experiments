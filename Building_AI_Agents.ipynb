{
  "nbformat": 4,
  "nbformat_minor": 0,
  "metadata": {
    "colab": {
      "provenance": [],
      "authorship_tag": "ABX9TyPB713Zbpn7QWz4PZMMx3ys",
      "include_colab_link": true
    },
    "kernelspec": {
      "name": "python3",
      "display_name": "Python 3"
    },
    "language_info": {
      "name": "python"
    }
  },
  "cells": [
    {
      "cell_type": "markdown",
      "metadata": {
        "id": "view-in-github",
        "colab_type": "text"
      },
      "source": [
        "<a href=\"https://colab.research.google.com/github/satvik314/ai_experiments/blob/main/Building_AI_Agents.ipynb\" target=\"_parent\"><img src=\"https://colab.research.google.com/assets/colab-badge.svg\" alt=\"Open In Colab\"/></a>"
      ]
    },
    {
      "cell_type": "markdown",
      "source": [
        "### Importing Essential Libraries"
      ],
      "metadata": {
        "id": "BM_RU3tqMZL0"
      }
    },
    {
      "cell_type": "code",
      "execution_count": null,
      "metadata": {
        "id": "E2oVcUEfJnt8",
        "colab": {
          "base_uri": "https://localhost:8080/"
        },
        "outputId": "e87db752-5231-4330-c7cb-5c26e93f76a0"
      },
      "outputs": [
        {
          "output_type": "stream",
          "name": "stdout",
          "text": [
            "Requirement already satisfied: langchain in /usr/local/lib/python3.10/dist-packages (0.0.320)\n",
            "Requirement already satisfied: openai in /usr/local/lib/python3.10/dist-packages (0.28.1)\n",
            "Requirement already satisfied: duckduckgo-search in /usr/local/lib/python3.10/dist-packages (3.9.3)\n",
            "Requirement already satisfied: elevenlabs in /usr/local/lib/python3.10/dist-packages (0.2.26)\n",
            "Requirement already satisfied: PyYAML>=5.3 in /usr/local/lib/python3.10/dist-packages (from langchain) (6.0.1)\n",
            "Requirement already satisfied: SQLAlchemy<3,>=1.4 in /usr/local/lib/python3.10/dist-packages (from langchain) (2.0.22)\n",
            "Requirement already satisfied: aiohttp<4.0.0,>=3.8.3 in /usr/local/lib/python3.10/dist-packages (from langchain) (3.8.6)\n",
            "Requirement already satisfied: anyio<4.0 in /usr/local/lib/python3.10/dist-packages (from langchain) (3.7.1)\n",
            "Requirement already satisfied: async-timeout<5.0.0,>=4.0.0 in /usr/local/lib/python3.10/dist-packages (from langchain) (4.0.3)\n",
            "Requirement already satisfied: dataclasses-json<0.7,>=0.5.7 in /usr/local/lib/python3.10/dist-packages (from langchain) (0.6.1)\n",
            "Requirement already satisfied: jsonpatch<2.0,>=1.33 in /usr/local/lib/python3.10/dist-packages (from langchain) (1.33)\n",
            "Requirement already satisfied: langsmith<0.1.0,>=0.0.43 in /usr/local/lib/python3.10/dist-packages (from langchain) (0.0.49)\n",
            "Requirement already satisfied: numpy<2,>=1 in /usr/local/lib/python3.10/dist-packages (from langchain) (1.23.5)\n",
            "Requirement already satisfied: pydantic<3,>=1 in /usr/local/lib/python3.10/dist-packages (from langchain) (2.4.2)\n",
            "Requirement already satisfied: requests<3,>=2 in /usr/local/lib/python3.10/dist-packages (from langchain) (2.31.0)\n",
            "Requirement already satisfied: tenacity<9.0.0,>=8.1.0 in /usr/local/lib/python3.10/dist-packages (from langchain) (8.2.3)\n",
            "Requirement already satisfied: tqdm in /usr/local/lib/python3.10/dist-packages (from openai) (4.66.1)\n",
            "Requirement already satisfied: aiofiles>=23.2.1 in /usr/local/lib/python3.10/dist-packages (from duckduckgo-search) (23.2.1)\n",
            "Requirement already satisfied: click>=8.1.7 in /usr/local/lib/python3.10/dist-packages (from duckduckgo-search) (8.1.7)\n",
            "Requirement already satisfied: lxml>=4.9.3 in /usr/local/lib/python3.10/dist-packages (from duckduckgo-search) (4.9.3)\n",
            "Requirement already satisfied: httpx[brotli,http2,socks]>=0.25.0 in /usr/local/lib/python3.10/dist-packages (from duckduckgo-search) (0.25.0)\n",
            "Requirement already satisfied: ipython>=7.0 in /usr/local/lib/python3.10/dist-packages (from elevenlabs) (7.34.0)\n",
            "Requirement already satisfied: websockets>=11.0 in /usr/local/lib/python3.10/dist-packages (from elevenlabs) (12.0)\n",
            "Requirement already satisfied: attrs>=17.3.0 in /usr/local/lib/python3.10/dist-packages (from aiohttp<4.0.0,>=3.8.3->langchain) (23.1.0)\n",
            "Requirement already satisfied: charset-normalizer<4.0,>=2.0 in /usr/local/lib/python3.10/dist-packages (from aiohttp<4.0.0,>=3.8.3->langchain) (3.3.0)\n",
            "Requirement already satisfied: multidict<7.0,>=4.5 in /usr/local/lib/python3.10/dist-packages (from aiohttp<4.0.0,>=3.8.3->langchain) (6.0.4)\n",
            "Requirement already satisfied: yarl<2.0,>=1.0 in /usr/local/lib/python3.10/dist-packages (from aiohttp<4.0.0,>=3.8.3->langchain) (1.9.2)\n",
            "Requirement already satisfied: frozenlist>=1.1.1 in /usr/local/lib/python3.10/dist-packages (from aiohttp<4.0.0,>=3.8.3->langchain) (1.4.0)\n",
            "Requirement already satisfied: aiosignal>=1.1.2 in /usr/local/lib/python3.10/dist-packages (from aiohttp<4.0.0,>=3.8.3->langchain) (1.3.1)\n",
            "Requirement already satisfied: idna>=2.8 in /usr/local/lib/python3.10/dist-packages (from anyio<4.0->langchain) (3.4)\n",
            "Requirement already satisfied: sniffio>=1.1 in /usr/local/lib/python3.10/dist-packages (from anyio<4.0->langchain) (1.3.0)\n",
            "Requirement already satisfied: exceptiongroup in /usr/local/lib/python3.10/dist-packages (from anyio<4.0->langchain) (1.1.3)\n",
            "Requirement already satisfied: marshmallow<4.0.0,>=3.18.0 in /usr/local/lib/python3.10/dist-packages (from dataclasses-json<0.7,>=0.5.7->langchain) (3.20.1)\n",
            "Requirement already satisfied: typing-inspect<1,>=0.4.0 in /usr/local/lib/python3.10/dist-packages (from dataclasses-json<0.7,>=0.5.7->langchain) (0.9.0)\n",
            "Requirement already satisfied: certifi in /usr/local/lib/python3.10/dist-packages (from httpx[brotli,http2,socks]>=0.25.0->duckduckgo-search) (2023.7.22)\n",
            "Requirement already satisfied: httpcore<0.19.0,>=0.18.0 in /usr/local/lib/python3.10/dist-packages (from httpx[brotli,http2,socks]>=0.25.0->duckduckgo-search) (0.18.0)\n",
            "Requirement already satisfied: brotli in /usr/local/lib/python3.10/dist-packages (from httpx[brotli,http2,socks]>=0.25.0->duckduckgo-search) (1.1.0)\n",
            "Requirement already satisfied: socksio==1.* in /usr/local/lib/python3.10/dist-packages (from httpx[brotli,http2,socks]>=0.25.0->duckduckgo-search) (1.0.0)\n",
            "Requirement already satisfied: h2<5,>=3 in /usr/local/lib/python3.10/dist-packages (from httpx[brotli,http2,socks]>=0.25.0->duckduckgo-search) (4.1.0)\n",
            "Requirement already satisfied: setuptools>=18.5 in /usr/local/lib/python3.10/dist-packages (from ipython>=7.0->elevenlabs) (67.7.2)\n",
            "Requirement already satisfied: jedi>=0.16 in /usr/local/lib/python3.10/dist-packages (from ipython>=7.0->elevenlabs) (0.19.1)\n",
            "Requirement already satisfied: decorator in /usr/local/lib/python3.10/dist-packages (from ipython>=7.0->elevenlabs) (4.4.2)\n",
            "Requirement already satisfied: pickleshare in /usr/local/lib/python3.10/dist-packages (from ipython>=7.0->elevenlabs) (0.7.5)\n",
            "Requirement already satisfied: traitlets>=4.2 in /usr/local/lib/python3.10/dist-packages (from ipython>=7.0->elevenlabs) (5.7.1)\n",
            "Requirement already satisfied: prompt-toolkit!=3.0.0,!=3.0.1,<3.1.0,>=2.0.0 in /usr/local/lib/python3.10/dist-packages (from ipython>=7.0->elevenlabs) (3.0.39)\n",
            "Requirement already satisfied: pygments in /usr/local/lib/python3.10/dist-packages (from ipython>=7.0->elevenlabs) (2.16.1)\n",
            "Requirement already satisfied: backcall in /usr/local/lib/python3.10/dist-packages (from ipython>=7.0->elevenlabs) (0.2.0)\n",
            "Requirement already satisfied: matplotlib-inline in /usr/local/lib/python3.10/dist-packages (from ipython>=7.0->elevenlabs) (0.1.6)\n",
            "Requirement already satisfied: pexpect>4.3 in /usr/local/lib/python3.10/dist-packages (from ipython>=7.0->elevenlabs) (4.8.0)\n",
            "Requirement already satisfied: jsonpointer>=1.9 in /usr/local/lib/python3.10/dist-packages (from jsonpatch<2.0,>=1.33->langchain) (2.4)\n",
            "Requirement already satisfied: annotated-types>=0.4.0 in /usr/local/lib/python3.10/dist-packages (from pydantic<3,>=1->langchain) (0.6.0)\n",
            "Requirement already satisfied: pydantic-core==2.10.1 in /usr/local/lib/python3.10/dist-packages (from pydantic<3,>=1->langchain) (2.10.1)\n",
            "Requirement already satisfied: typing-extensions>=4.6.1 in /usr/local/lib/python3.10/dist-packages (from pydantic<3,>=1->langchain) (4.8.0)\n",
            "Requirement already satisfied: urllib3<3,>=1.21.1 in /usr/local/lib/python3.10/dist-packages (from requests<3,>=2->langchain) (2.0.7)\n",
            "Requirement already satisfied: greenlet!=0.4.17 in /usr/local/lib/python3.10/dist-packages (from SQLAlchemy<3,>=1.4->langchain) (3.0.0)\n",
            "Requirement already satisfied: hyperframe<7,>=6.0 in /usr/local/lib/python3.10/dist-packages (from h2<5,>=3->httpx[brotli,http2,socks]>=0.25.0->duckduckgo-search) (6.0.1)\n",
            "Requirement already satisfied: hpack<5,>=4.0 in /usr/local/lib/python3.10/dist-packages (from h2<5,>=3->httpx[brotli,http2,socks]>=0.25.0->duckduckgo-search) (4.0.0)\n",
            "Requirement already satisfied: h11<0.15,>=0.13 in /usr/local/lib/python3.10/dist-packages (from httpcore<0.19.0,>=0.18.0->httpx[brotli,http2,socks]>=0.25.0->duckduckgo-search) (0.14.0)\n",
            "Requirement already satisfied: parso<0.9.0,>=0.8.3 in /usr/local/lib/python3.10/dist-packages (from jedi>=0.16->ipython>=7.0->elevenlabs) (0.8.3)\n",
            "Requirement already satisfied: packaging>=17.0 in /usr/local/lib/python3.10/dist-packages (from marshmallow<4.0.0,>=3.18.0->dataclasses-json<0.7,>=0.5.7->langchain) (23.2)\n",
            "Requirement already satisfied: ptyprocess>=0.5 in /usr/local/lib/python3.10/dist-packages (from pexpect>4.3->ipython>=7.0->elevenlabs) (0.7.0)\n",
            "Requirement already satisfied: wcwidth in /usr/local/lib/python3.10/dist-packages (from prompt-toolkit!=3.0.0,!=3.0.1,<3.1.0,>=2.0.0->ipython>=7.0->elevenlabs) (0.2.8)\n",
            "Requirement already satisfied: mypy-extensions>=0.3.0 in /usr/local/lib/python3.10/dist-packages (from typing-inspect<1,>=0.4.0->dataclasses-json<0.7,>=0.5.7->langchain) (1.0.0)\n"
          ]
        }
      ],
      "source": [
        "!pip install langchain openai duckduckgo-search elevenlabs"
      ]
    },
    {
      "cell_type": "markdown",
      "source": [
        "Saving API Keys\n",
        "- Get OpenAI API key [here](https://platform.openai.com/account/api-keys)"
      ],
      "metadata": {
        "id": "P2GLeLMdMnma"
      }
    },
    {
      "cell_type": "code",
      "source": [
        "# Securely saving API keys\n",
        "\n",
        "import os\n",
        "from getpass import getpass\n",
        "\n",
        "os.environ['OPENAI_API_KEY'] = getpass()"
      ],
      "metadata": {
        "colab": {
          "base_uri": "https://localhost:8080/"
        },
        "id": "xeiwoc40Mg4h",
        "outputId": "64f0cf51-7934-4c75-f8b9-8ed8a9a0e3d0"
      },
      "execution_count": null,
      "outputs": [
        {
          "name": "stdout",
          "output_type": "stream",
          "text": [
            "··········\n"
          ]
        }
      ]
    },
    {
      "cell_type": "markdown",
      "source": [
        "### Internet Access Agent\n",
        "\n",
        "Giving internet access to GPT-3/4 using DuckDuckGo search to get up to date information from the web!"
      ],
      "metadata": {
        "id": "fAKyUpa1MeFb"
      }
    },
    {
      "cell_type": "code",
      "source": [
        "from langchain.chat_models import ChatOpenAI"
      ],
      "metadata": {
        "id": "ir-w9_8yMdn9"
      },
      "execution_count": null,
      "outputs": []
    },
    {
      "cell_type": "code",
      "source": [
        "# Initialize the LLM\n",
        "llm = ChatOpenAI(model = \"gpt-3.5-turbo\")\n",
        "\n",
        "llm.predict(\"Who is the captain of Indian Cricket team?\")"
      ],
      "metadata": {
        "colab": {
          "base_uri": "https://localhost:8080/",
          "height": 35
        },
        "id": "4aKkf899MK0X",
        "outputId": "64a23278-c085-4e8b-a0ac-d66beaac9b9b"
      },
      "execution_count": null,
      "outputs": [
        {
          "output_type": "execute_result",
          "data": {
            "text/plain": [
              "'As of September 2021, the captain of the Indian Cricket team is Virat Kohli.'"
            ],
            "application/vnd.google.colaboratory.intrinsic+json": {
              "type": "string"
            }
          },
          "metadata": {},
          "execution_count": 15
        }
      ]
    },
    {
      "cell_type": "code",
      "source": [
        "from langchain.chat_models import ChatOpenAI\n",
        "from langchain.agents import initialize_agent, Tool, AgentType\n",
        "from langchain.tools import DuckDuckGoSearchRun\n",
        "\n",
        "# Initialize the LLM and DuckDuckGo search\n",
        "llm = ChatOpenAI(model = \"gpt-3.5-turbo\")\n",
        "search = DuckDuckGoSearchRun()\n",
        "\n",
        "# Create the DuckDuckGo tool\n",
        "duckduckgo_tool = Tool(\n",
        "    name=\"DuckDuckGo Search\",\n",
        "    func=search.run,\n",
        "    description=\"Use this tool when an Internet search is required\"\n",
        ")\n",
        "\n",
        "# Initialize the agent with the DuckDuckGo tool\n",
        "internet_agent = initialize_agent([duckduckgo_tool], llm, agent=AgentType.ZERO_SHOT_REACT_DESCRIPTION, verbose=True)"
      ],
      "metadata": {
        "id": "ALWRJFBkNjM7"
      },
      "execution_count": null,
      "outputs": []
    },
    {
      "cell_type": "code",
      "source": [
        "# Run a search with the agent\n",
        "\n",
        "internet_agent.run(\"Who is the captain of Indian Cricket team?\")"
      ],
      "metadata": {
        "colab": {
          "base_uri": "https://localhost:8080/",
          "height": 35
        },
        "id": "gvwPHBiiO63A",
        "outputId": "d4cc398c-21c7-4a40-966b-1a737533948e"
      },
      "execution_count": null,
      "outputs": [
        {
          "output_type": "execute_result",
          "data": {
            "text/plain": [
              "'Rohit Sharma'"
            ],
            "application/vnd.google.colaboratory.intrinsic+json": {
              "type": "string"
            }
          },
          "metadata": {},
          "execution_count": 17
        }
      ]
    },
    {
      "cell_type": "code",
      "source": [
        "# Run a search with the agent with verbose\n",
        "\n",
        "internet_agent.run(\"Who is the captain of Indian Cricket team?\")"
      ],
      "metadata": {
        "colab": {
          "base_uri": "https://localhost:8080/",
          "height": 246
        },
        "id": "HTSUaMaUPVui",
        "outputId": "55b08fa3-050b-4827-f7ac-d978e57a8a31"
      },
      "execution_count": null,
      "outputs": [
        {
          "output_type": "stream",
          "name": "stdout",
          "text": [
            "\n",
            "\n",
            "\u001b[1m> Entering new AgentExecutor chain...\u001b[0m\n",
            "\u001b[32;1m\u001b[1;3mI'm not sure about the current captain of the Indian Cricket team.\n",
            "Action: DuckDuckGo Search\n",
            "Action Input: \"current captain of Indian Cricket team\"\u001b[0m\n",
            "Observation: \u001b[36;1m\u001b[1;3mHarmanpreet Kaur is current captain of the India Women's National Cricket Team in all formats and Rohit Sharma is current captain of India Men's National Cricket Team in all formats. Men's cricket Test match captains This is a list of cricketers who have captained the Indian men's cricket team for at least one Test match. September 05, 2023. The All-India Senior Selection Committee on Tuesday announced India's 15-man squad for the upcoming ICC Men's Cricket World Cup 2023, which will be hosted by India. Squad: Rohit Sharma (Captain), Hardik Pandya (Vice-captain), Shubman Gill, Virat Kohli, Shreyas Iyer, Ishan Kishan, KL Rahul, Suryakumar Yadav, Ravindra ... It is governed by the Board of Control for Cricket in India (BCCI), and is a Full Member of the International Cricket Council (ICC) with Test, One Day International (ODI) and Twenty20 International (T20I) status. Rohit Sharma, the current captain of the Indian men's cricket team, has proven his leadership skills in limited-overs cricket, particularly during the Asia Cup. In the 2023 Asia Cup, Rohit led India to victory, making him the third Indian skipper to win more than one Asia Cup trophy, joining the ranks of Dhoni and Azharuddin. Change in Captain to be announced soon - T20 Cricket: Hardik Pandya to be officially announced as India captain before SriLanka Series ODI Cricket: Rohit Sharma to keep ODI Captaincy till World CUP 2023 Test Captaincy: Rohit Sharma to stay India captain till current World CUP cycle. \"See the consensus is there that now is the time to change.\u001b[0m\n",
            "Thought:\u001b[32;1m\u001b[1;3mThe current captain of the Indian Men's National Cricket Team is Rohit Sharma.\n",
            "Final Answer: Rohit Sharma\u001b[0m\n",
            "\n",
            "\u001b[1m> Finished chain.\u001b[0m\n"
          ]
        },
        {
          "output_type": "execute_result",
          "data": {
            "text/plain": [
              "'Rohit Sharma'"
            ],
            "application/vnd.google.colaboratory.intrinsic+json": {
              "type": "string"
            }
          },
          "metadata": {},
          "execution_count": 19
        }
      ]
    },
    {
      "cell_type": "code",
      "source": [
        "# Run a search with the agent with verbose\n",
        "\n",
        "internet_agent.run(\"When did world war I happen?\")"
      ],
      "metadata": {
        "colab": {
          "base_uri": "https://localhost:8080/",
          "height": 246
        },
        "id": "NBPgYlg4ASz7",
        "outputId": "e4a1cc0a-9198-4647-9f9e-8c2ca68e3c9a"
      },
      "execution_count": null,
      "outputs": [
        {
          "output_type": "stream",
          "name": "stdout",
          "text": [
            "\n",
            "\n",
            "\u001b[1m> Entering new AgentExecutor chain...\u001b[0m\n",
            "\u001b[32;1m\u001b[1;3mI need to find the dates for World War I.\n",
            "Action: DuckDuckGo Search\n",
            "Action Input: \"dates of World War I\"\u001b[0m\n",
            "Observation: \u001b[36;1m\u001b[1;3mLearn about the timeline and events of World War I. The fighting in WW1 lasted from 1914 to 1918. Timeline includes battles, war declarations, treaties, and more. On June 28, 1914, Archduke of the Austro-Hungarian Empire Franz Ferdinand was shot dead by Serbian nationalist Gavrilo Princip. This assassination set off a chain of events that led to the First World War (also known as the Great War) from 1914 to 1918. It was the deadliest conflict in world history up to that point; between 15 to 22 million ... From Arkansas, 71,862 soldiers served in the war; according to registration cards, 18,322 of these soldiers were African Americans and two were Native Americans. Out of these soldiers, 2,183 died (more than half from illnesses rather than war injuries), and 1,751 were injured. An indirect result of the war led to far more deaths, however. This is a list of wars that began between 1900 and 1944 . This period saw the outbreak of World War I (1914-1918) and World War II (1939-1945), which are among the deadliest conflicts in human history, with many of the world's great powers partaking in total war and some partaking in genocides. Depending on the source consulted, conflict ... World War I, or the Great War, stretched from 1914 to 1918. The conflict saw the death of approximately ten million soldiers and another ten million civilians. To understand the full impact of the…\u001b[0m\n",
            "Thought:\u001b[32;1m\u001b[1;3mI now know the final answer\n",
            "Final Answer: World War I happened from 1914 to 1918.\u001b[0m\n",
            "\n",
            "\u001b[1m> Finished chain.\u001b[0m\n"
          ]
        },
        {
          "output_type": "execute_result",
          "data": {
            "text/plain": [
              "'World War I happened from 1914 to 1918.'"
            ],
            "application/vnd.google.colaboratory.intrinsic+json": {
              "type": "string"
            }
          },
          "metadata": {},
          "execution_count": 22
        }
      ]
    },
    {
      "cell_type": "markdown",
      "source": [
        "### Giving GPT a voice!\n",
        "\n",
        "- Get ElevenLabs API Key [here](https://elevenlabs.io/)\n",
        "(you can use free-tier)"
      ],
      "metadata": {
        "id": "hx-svhO5TYJ6"
      }
    },
    {
      "cell_type": "code",
      "source": [
        "from langchain.chat_models import ChatOpenAI\n",
        "from langchain.agents import initialize_agent, AgentType, load_tools\n",
        "\n",
        "llm = ChatOpenAI(temperature=0)"
      ],
      "metadata": {
        "id": "TnZBDqG1mELF"
      },
      "execution_count": null,
      "outputs": []
    },
    {
      "cell_type": "code",
      "source": [
        "print(llm.predict(\"Tell me a good joke and read it for me.\"))"
      ],
      "metadata": {
        "colab": {
          "base_uri": "https://localhost:8080/"
        },
        "id": "pXO3_ZnPmTeT",
        "outputId": "4da7e325-e7e2-4061-9c7b-a3cbadffec77"
      },
      "execution_count": null,
      "outputs": [
        {
          "output_type": "stream",
          "name": "stdout",
          "text": [
            "Sure, here's a classic joke for you:\n",
            "\n",
            "Why don't scientists trust atoms?\n",
            "\n",
            "Because they make up everything!\n",
            "\n",
            "I hope that brought a smile to your face!\n"
          ]
        }
      ]
    },
    {
      "cell_type": "code",
      "source": [
        "os.environ['ELEVEN_API_KEY'] = getpass(\"Enter ElevenLabs Key: \")"
      ],
      "metadata": {
        "colab": {
          "base_uri": "https://localhost:8080/"
        },
        "id": "eBsEUQsqmsek",
        "outputId": "4b19c966-fd54-49b8-85b7-8f5ce413fefb"
      },
      "execution_count": null,
      "outputs": [
        {
          "name": "stdout",
          "output_type": "stream",
          "text": [
            "Enter ElevenLabs Key: ··········\n"
          ]
        }
      ]
    },
    {
      "cell_type": "code",
      "source": [
        "from langchain.llms import OpenAI\n",
        "from langchain.agents import initialize_agent, AgentType, load_tools\n",
        "from IPython.display import Audio\n",
        "\n",
        "llm = OpenAI(temperature=0)\n",
        "tools = load_tools([\"eleven_labs_text2speech\"])\n",
        "agent = initialize_agent(\n",
        "    tools=tools,\n",
        "    llm=llm,\n",
        "    agent=AgentType.STRUCTURED_CHAT_ZERO_SHOT_REACT_DESCRIPTION,\n",
        "    verbose=True,\n",
        ")\n",
        "\n",
        "audio_file = agent.run(\"Tell me a joke and read it out for me.\")\n",
        "# tts.play(audio_file)\n",
        "Audio(audio_file, autoplay=False)\n"
      ],
      "metadata": {
        "colab": {
          "base_uri": "https://localhost:8080/",
          "height": 543
        },
        "id": "ljqXS-9qnzIN",
        "outputId": "1892233c-a653-44a4-8428-95b671549725"
      },
      "execution_count": null,
      "outputs": [
        {
          "output_type": "stream",
          "name": "stdout",
          "text": [
            "\n",
            "\n",
            "\u001b[1m> Entering new AgentExecutor chain...\u001b[0m\n",
            "\u001b[32;1m\u001b[1;3mAction:\n",
            "```\n",
            "{\n",
            "  \"action\": \"eleven_labs_text2speech\",\n",
            "  \"action_input\": {\n",
            "    \"query\": \"Why did the chicken cross the playground? To get to the other slide!\"\n",
            "  }\n",
            "}\n",
            "```\n",
            "\n",
            "\u001b[0m\n",
            "Observation: \u001b[36;1m\u001b[1;3m/tmp/tmpeyyigqwo.wav\u001b[0m\n",
            "Thought:\u001b[32;1m\u001b[1;3m I have the audio file ready to be sent to the human\n",
            "Action:\n",
            "```\n",
            "{\n",
            "  \"action\": \"Final Answer\",\n",
            "  \"action_input\": \"/tmp/tmpeyyigqwo.wav\"\n",
            "}\n",
            "```\n",
            "\n",
            "\u001b[0m\n",
            "\n",
            "\u001b[1m> Finished chain.\u001b[0m\n"
          ]
        },
        {
          "output_type": "execute_result",
          "data": {
            "text/plain": [
              "<IPython.lib.display.Audio object>"
            ],
            "text/html": [
              "\n",
              "                <audio  controls=\"controls\" >\n",
              "                    <source src=\"data:audio/x-wav;base64,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\" type=\"audio/x-wav\" />\n",
              "                    Your browser does not support the audio element.\n",
              "                </audio>\n",
              "              "
            ]
          },
          "metadata": {},
          "execution_count": 28
        }
      ]
    },
    {
      "cell_type": "code",
      "source": [],
      "metadata": {
        "id": "yQ_prR6ZoLdO"
      },
      "execution_count": null,
      "outputs": []
    },
    {
      "cell_type": "markdown",
      "source": [
        "Similarly, we can embed a lot of functionalities to LLMs like:\n",
        "- Ability to run code\n",
        "- Analyse excel sheets\n",
        "- Do complex math\n",
        "<br>\n",
        "... many more\n",
        "\n",
        "Link to Langchain tools [library](https://python.langchain.com/docs/integrations/tools)\n",
        "\n",
        "\n"
      ],
      "metadata": {
        "id": "Sxqt19w8qI0m"
      }
    },
    {
      "cell_type": "code",
      "source": [],
      "metadata": {
        "id": "f1GJTWAkqlT4"
      },
      "execution_count": null,
      "outputs": []
    }
  ]
}