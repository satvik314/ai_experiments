{
  "nbformat": 4,
  "nbformat_minor": 0,
  "metadata": {
    "colab": {
      "provenance": [],
      "authorship_tag": "ABX9TyN/3pgdDYb/ZmVdK4pW8O0n",
      "include_colab_link": true
    },
    "kernelspec": {
      "name": "python3",
      "display_name": "Python 3"
    },
    "language_info": {
      "name": "python"
    }
  },
  "cells": [
    {
      "cell_type": "markdown",
      "metadata": {
        "id": "view-in-github",
        "colab_type": "text"
      },
      "source": [
        "<a href=\"https://colab.research.google.com/github/satvik314/ai_experiments/blob/main/sdxl_replicate.ipynb\" target=\"_parent\"><img src=\"https://colab.research.google.com/assets/colab-badge.svg\" alt=\"Open In Colab\"/></a>"
      ]
    },
    {
      "cell_type": "markdown",
      "source": [
        "## Generate images through Stable Diffusion XL"
      ],
      "metadata": {
        "id": "T7X15KJIwNZG"
      }
    },
    {
      "cell_type": "code",
      "execution_count": 1,
      "metadata": {
        "id": "M-85zFXuadLR",
        "colab": {
          "base_uri": "https://localhost:8080/"
        },
        "outputId": "ce9544b6-e233-46fb-80f2-889f2e28c81e"
      },
      "outputs": [
        {
          "output_type": "stream",
          "name": "stdout",
          "text": [
            "Collecting replicate\n",
            "  Downloading replicate-0.10.0-py3-none-any.whl (22 kB)\n",
            "Requirement already satisfied: packaging in /usr/local/lib/python3.10/dist-packages (from replicate) (23.1)\n",
            "Requirement already satisfied: pydantic>1 in /usr/local/lib/python3.10/dist-packages (from replicate) (1.10.12)\n",
            "Requirement already satisfied: requests>2 in /usr/local/lib/python3.10/dist-packages (from replicate) (2.27.1)\n",
            "Requirement already satisfied: typing-extensions>=4.2.0 in /usr/local/lib/python3.10/dist-packages (from pydantic>1->replicate) (4.7.1)\n",
            "Requirement already satisfied: urllib3<1.27,>=1.21.1 in /usr/local/lib/python3.10/dist-packages (from requests>2->replicate) (1.26.16)\n",
            "Requirement already satisfied: certifi>=2017.4.17 in /usr/local/lib/python3.10/dist-packages (from requests>2->replicate) (2023.7.22)\n",
            "Requirement already satisfied: charset-normalizer~=2.0.0 in /usr/local/lib/python3.10/dist-packages (from requests>2->replicate) (2.0.12)\n",
            "Requirement already satisfied: idna<4,>=2.5 in /usr/local/lib/python3.10/dist-packages (from requests>2->replicate) (3.4)\n",
            "Installing collected packages: replicate\n",
            "Successfully installed replicate-0.10.0\n"
          ]
        }
      ],
      "source": [
        "!pip install replicate"
      ]
    },
    {
      "cell_type": "markdown",
      "source": [
        "Get the Replicate API Token here: https://replicate.com/"
      ],
      "metadata": {
        "id": "hpKYbHw5wXWj"
      }
    },
    {
      "cell_type": "code",
      "source": [
        "import os\n",
        "from getpass import getpass\n",
        "\n",
        "os.environ['REPLICATE_API_TOKEN'] = getpass()"
      ],
      "metadata": {
        "id": "ZlPDlIJzbWgV",
        "colab": {
          "base_uri": "https://localhost:8080/"
        },
        "outputId": "3a150f8d-f633-4895-d262-2dbab7801de4"
      },
      "execution_count": 2,
      "outputs": [
        {
          "name": "stdout",
          "output_type": "stream",
          "text": [
            "··········\n"
          ]
        }
      ]
    },
    {
      "cell_type": "code",
      "source": [
        "import replicate\n",
        "output = replicate.run(\n",
        "    \"stability-ai/sdxl:2f779eb9b23b34fe171f8eaa021b8261566f0d2c10cd2674063e7dbcd351509e\",\n",
        "    input={\"prompt\": \"Taylor Swift in Indian Attire\"}\n",
        ")\n",
        "print(output)"
      ],
      "metadata": {
        "id": "gCOsFypCbnzY",
        "colab": {
          "base_uri": "https://localhost:8080/"
        },
        "outputId": "23ff28fe-295a-4412-ef21-78d8a69fe161"
      },
      "execution_count": 3,
      "outputs": [
        {
          "output_type": "stream",
          "name": "stdout",
          "text": [
            "['https://replicate.delivery/pbxt/2jBhKrRQLWYEBZZrKT01DggVWOxHzNRYMq09lbLfmXK66crIA/out-0.png']\n"
          ]
        }
      ]
    },
    {
      "cell_type": "code",
      "source": [
        "type(output)"
      ],
      "metadata": {
        "id": "KFi8lsyckd3e"
      },
      "execution_count": null,
      "outputs": []
    },
    {
      "cell_type": "code",
      "source": [
        "import replicate\n",
        "output = replicate.run(\n",
        "    \"stability-ai/sdxl:2f779eb9b23b34fe171f8eaa021b8261566f0d2c10cd2674063e7dbcd351509e\",\n",
        "    input={\"prompt\": \"A woman listening to music while commuting in a subway. \"}\n",
        ")\n",
        "print(output)"
      ],
      "metadata": {
        "id": "ItUfQnOrkfYF",
        "colab": {
          "base_uri": "https://localhost:8080/"
        },
        "outputId": "d17407df-5590-47d8-e664-b6465aa49a0f"
      },
      "execution_count": null,
      "outputs": [
        {
          "output_type": "stream",
          "name": "stdout",
          "text": [
            "['https://replicate.delivery/pbxt/CAJe7KlsQY1NFaqWDsfBfTDee9Og6ypxVpVENQWS4chm4RlKC/out-0.png']\n"
          ]
        }
      ]
    },
    {
      "cell_type": "code",
      "source": [
        "import replicate\n",
        "output = replicate.run(\n",
        "    \"stability-ai/sdxl:2f779eb9b23b34fe171f8eaa021b8261566f0d2c10cd2674063e7dbcd351509e\",\n",
        "    input={\"prompt\": \"Portrait of a young girl  \"}\n",
        ")\n",
        "print(output)"
      ],
      "metadata": {
        "colab": {
          "base_uri": "https://localhost:8080/"
        },
        "id": "Ief6xkHaTkEj",
        "outputId": "90a8aedf-2633-4dec-a64c-475fc7ccfd56"
      },
      "execution_count": null,
      "outputs": [
        {
          "output_type": "stream",
          "name": "stdout",
          "text": [
            "['https://replicate.delivery/pbxt/HJxt8lWH3p7RA1crXPefPn71ehR9fHIWny4CHVQe2Bu7ejKVE/out-0.png']\n"
          ]
        }
      ]
    },
    {
      "cell_type": "code",
      "source": [],
      "metadata": {
        "id": "yy152s4vUP28"
      },
      "execution_count": null,
      "outputs": []
    }
  ]
}