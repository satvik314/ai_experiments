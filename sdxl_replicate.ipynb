{
  "nbformat": 4,
  "nbformat_minor": 0,
  "metadata": {
    "colab": {
      "provenance": [],
      "authorship_tag": "ABX9TyObJZfQe6bIR/QyG165locZ",
      "include_colab_link": true
    },
    "kernelspec": {
      "name": "python3",
      "display_name": "Python 3"
    },
    "language_info": {
      "name": "python"
    }
  },
  "cells": [
    {
      "cell_type": "markdown",
      "metadata": {
        "id": "view-in-github",
        "colab_type": "text"
      },
      "source": [
        "<a href=\"https://colab.research.google.com/github/satvik314/langchain/blob/main/sdxl_replicate.ipynb\" target=\"_parent\"><img src=\"https://colab.research.google.com/assets/colab-badge.svg\" alt=\"Open In Colab\"/></a>"
      ]
    },
    {
      "cell_type": "markdown",
      "source": [
        "## Generate images through Stable Diffusion XL"
      ],
      "metadata": {
        "id": "T7X15KJIwNZG"
      }
    },
    {
      "cell_type": "code",
      "execution_count": null,
      "metadata": {
        "id": "M-85zFXuadLR"
      },
      "outputs": [],
      "source": [
        "!pip install replicate"
      ]
    },
    {
      "cell_type": "markdown",
      "source": [
        "Get the Replicate API Token here: https://replicate.com/"
      ],
      "metadata": {
        "id": "hpKYbHw5wXWj"
      }
    },
    {
      "cell_type": "code",
      "source": [
        "import os\n",
        "from getpass import getpass\n",
        "\n",
        "os.environ['REPLICATE_API_TOKEN'] = getpass()"
      ],
      "metadata": {
        "id": "ZlPDlIJzbWgV"
      },
      "execution_count": null,
      "outputs": []
    },
    {
      "cell_type": "code",
      "source": [
        "import replicate\n",
        "output = replicate.run(\n",
        "    \"stability-ai/sdxl:2f779eb9b23b34fe171f8eaa021b8261566f0d2c10cd2674063e7dbcd351509e\",\n",
        "    input={\"prompt\": \"An astronaut riding a rainbow unicorn\"}\n",
        ")\n",
        "print(output)"
      ],
      "metadata": {
        "id": "gCOsFypCbnzY"
      },
      "execution_count": null,
      "outputs": []
    },
    {
      "cell_type": "code",
      "source": [
        "output = replicate.run(\n",
        "    \"stability-ai/sdxl:2f779eb9b23b34fe171f8eaa021b8261566f0d2c10cd2674063e7dbcd351509e\",\n",
        "    input={\"prompt\": \"An astronaut riding a rainbow unicorn\"}\n",
        ")\n",
        "print(output)"
      ],
      "metadata": {
        "id": "tgSoVFx-bwbE"
      },
      "execution_count": null,
      "outputs": []
    },
    {
      "cell_type": "code",
      "source": [
        "type(output)"
      ],
      "metadata": {
        "id": "KFi8lsyckd3e"
      },
      "execution_count": null,
      "outputs": []
    },
    {
      "cell_type": "code",
      "source": [],
      "metadata": {
        "id": "ItUfQnOrkfYF"
      },
      "execution_count": null,
      "outputs": []
    }
  ]
}