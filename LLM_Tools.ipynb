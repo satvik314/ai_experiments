{
  "nbformat": 4,
  "nbformat_minor": 0,
  "metadata": {
    "colab": {
      "provenance": [],
      "authorship_tag": "ABX9TyNxz1zG+zVfGZ5qeRGsp7R/",
      "include_colab_link": true
    },
    "kernelspec": {
      "name": "python3",
      "display_name": "Python 3"
    },
    "language_info": {
      "name": "python"
    }
  },
  "cells": [
    {
      "cell_type": "markdown",
      "metadata": {
        "id": "view-in-github",
        "colab_type": "text"
      },
      "source": [
        "<a href=\"https://colab.research.google.com/github/satvik314/ai_experiments/blob/main/LLM_Tools.ipynb\" target=\"_parent\"><img src=\"https://colab.research.google.com/assets/colab-badge.svg\" alt=\"Open In Colab\"/></a>"
      ]
    },
    {
      "cell_type": "markdown",
      "source": [
        "### Importing Essential Libraries"
      ],
      "metadata": {
        "id": "BM_RU3tqMZL0"
      }
    },
    {
      "cell_type": "code",
      "execution_count": 11,
      "metadata": {
        "id": "E2oVcUEfJnt8",
        "colab": {
          "base_uri": "https://localhost:8080/"
        },
        "outputId": "ccd51e28-1523-4db3-99dc-02530f195d28"
      },
      "outputs": [
        {
          "output_type": "stream",
          "name": "stdout",
          "text": [
            "Requirement already satisfied: langchain in /usr/local/lib/python3.10/dist-packages (0.1.7)\n",
            "Requirement already satisfied: openai in /usr/local/lib/python3.10/dist-packages (1.12.0)\n",
            "Requirement already satisfied: duckduckgo-search in /usr/local/lib/python3.10/dist-packages (4.4.3)\n",
            "Requirement already satisfied: elevenlabs in /usr/local/lib/python3.10/dist-packages (0.2.27)\n",
            "Requirement already satisfied: PyYAML>=5.3 in /usr/local/lib/python3.10/dist-packages (from langchain) (6.0.1)\n",
            "Requirement already satisfied: SQLAlchemy<3,>=1.4 in /usr/local/lib/python3.10/dist-packages (from langchain) (2.0.27)\n",
            "Requirement already satisfied: aiohttp<4.0.0,>=3.8.3 in /usr/local/lib/python3.10/dist-packages (from langchain) (3.9.3)\n",
            "Requirement already satisfied: async-timeout<5.0.0,>=4.0.0 in /usr/local/lib/python3.10/dist-packages (from langchain) (4.0.3)\n",
            "Requirement already satisfied: dataclasses-json<0.7,>=0.5.7 in /usr/local/lib/python3.10/dist-packages (from langchain) (0.6.4)\n",
            "Requirement already satisfied: jsonpatch<2.0,>=1.33 in /usr/local/lib/python3.10/dist-packages (from langchain) (1.33)\n",
            "Requirement already satisfied: langchain-community<0.1,>=0.0.20 in /usr/local/lib/python3.10/dist-packages (from langchain) (0.0.20)\n",
            "Requirement already satisfied: langchain-core<0.2,>=0.1.22 in /usr/local/lib/python3.10/dist-packages (from langchain) (0.1.23)\n",
            "Requirement already satisfied: langsmith<0.1,>=0.0.83 in /usr/local/lib/python3.10/dist-packages (from langchain) (0.0.87)\n",
            "Requirement already satisfied: numpy<2,>=1 in /usr/local/lib/python3.10/dist-packages (from langchain) (1.25.2)\n",
            "Requirement already satisfied: pydantic<3,>=1 in /usr/local/lib/python3.10/dist-packages (from langchain) (2.6.1)\n",
            "Requirement already satisfied: requests<3,>=2 in /usr/local/lib/python3.10/dist-packages (from langchain) (2.31.0)\n",
            "Requirement already satisfied: tenacity<9.0.0,>=8.1.0 in /usr/local/lib/python3.10/dist-packages (from langchain) (8.2.3)\n",
            "Requirement already satisfied: anyio<5,>=3.5.0 in /usr/local/lib/python3.10/dist-packages (from openai) (3.7.1)\n",
            "Requirement already satisfied: distro<2,>=1.7.0 in /usr/lib/python3/dist-packages (from openai) (1.7.0)\n",
            "Requirement already satisfied: httpx<1,>=0.23.0 in /usr/local/lib/python3.10/dist-packages (from openai) (0.26.0)\n",
            "Requirement already satisfied: sniffio in /usr/local/lib/python3.10/dist-packages (from openai) (1.3.0)\n",
            "Requirement already satisfied: tqdm>4 in /usr/local/lib/python3.10/dist-packages (from openai) (4.66.2)\n",
            "Requirement already satisfied: typing-extensions<5,>=4.7 in /usr/local/lib/python3.10/dist-packages (from openai) (4.9.0)\n",
            "Requirement already satisfied: click>=8.1.7 in /usr/local/lib/python3.10/dist-packages (from duckduckgo-search) (8.1.7)\n",
            "Requirement already satisfied: curl-cffi>=0.6.0b9 in /usr/local/lib/python3.10/dist-packages (from duckduckgo-search) (0.6.0b9)\n",
            "Requirement already satisfied: lxml>=5.1.0 in /usr/local/lib/python3.10/dist-packages (from duckduckgo-search) (5.1.0)\n",
            "Requirement already satisfied: nest-asyncio>=1.6.0 in /usr/local/lib/python3.10/dist-packages (from duckduckgo-search) (1.6.0)\n",
            "Requirement already satisfied: ipython>=7.0 in /usr/local/lib/python3.10/dist-packages (from elevenlabs) (7.34.0)\n",
            "Requirement already satisfied: websockets>=11.0 in /usr/local/lib/python3.10/dist-packages (from elevenlabs) (12.0)\n",
            "Requirement already satisfied: aiosignal>=1.1.2 in /usr/local/lib/python3.10/dist-packages (from aiohttp<4.0.0,>=3.8.3->langchain) (1.3.1)\n",
            "Requirement already satisfied: attrs>=17.3.0 in /usr/local/lib/python3.10/dist-packages (from aiohttp<4.0.0,>=3.8.3->langchain) (23.2.0)\n",
            "Requirement already satisfied: frozenlist>=1.1.1 in /usr/local/lib/python3.10/dist-packages (from aiohttp<4.0.0,>=3.8.3->langchain) (1.4.1)\n",
            "Requirement already satisfied: multidict<7.0,>=4.5 in /usr/local/lib/python3.10/dist-packages (from aiohttp<4.0.0,>=3.8.3->langchain) (6.0.5)\n",
            "Requirement already satisfied: yarl<2.0,>=1.0 in /usr/local/lib/python3.10/dist-packages (from aiohttp<4.0.0,>=3.8.3->langchain) (1.9.4)\n",
            "Requirement already satisfied: idna>=2.8 in /usr/local/lib/python3.10/dist-packages (from anyio<5,>=3.5.0->openai) (3.6)\n",
            "Requirement already satisfied: exceptiongroup in /usr/local/lib/python3.10/dist-packages (from anyio<5,>=3.5.0->openai) (1.2.0)\n",
            "Requirement already satisfied: cffi>=1.12.0 in /usr/local/lib/python3.10/dist-packages (from curl-cffi>=0.6.0b9->duckduckgo-search) (1.16.0)\n",
            "Requirement already satisfied: certifi in /usr/local/lib/python3.10/dist-packages (from curl-cffi>=0.6.0b9->duckduckgo-search) (2024.2.2)\n",
            "Requirement already satisfied: marshmallow<4.0.0,>=3.18.0 in /usr/local/lib/python3.10/dist-packages (from dataclasses-json<0.7,>=0.5.7->langchain) (3.20.2)\n",
            "Requirement already satisfied: typing-inspect<1,>=0.4.0 in /usr/local/lib/python3.10/dist-packages (from dataclasses-json<0.7,>=0.5.7->langchain) (0.9.0)\n",
            "Requirement already satisfied: httpcore==1.* in /usr/local/lib/python3.10/dist-packages (from httpx<1,>=0.23.0->openai) (1.0.3)\n",
            "Requirement already satisfied: h11<0.15,>=0.13 in /usr/local/lib/python3.10/dist-packages (from httpcore==1.*->httpx<1,>=0.23.0->openai) (0.14.0)\n",
            "Requirement already satisfied: setuptools>=18.5 in /usr/local/lib/python3.10/dist-packages (from ipython>=7.0->elevenlabs) (67.7.2)\n",
            "Requirement already satisfied: jedi>=0.16 in /usr/local/lib/python3.10/dist-packages (from ipython>=7.0->elevenlabs) (0.19.1)\n",
            "Requirement already satisfied: decorator in /usr/local/lib/python3.10/dist-packages (from ipython>=7.0->elevenlabs) (4.4.2)\n",
            "Requirement already satisfied: pickleshare in /usr/local/lib/python3.10/dist-packages (from ipython>=7.0->elevenlabs) (0.7.5)\n",
            "Requirement already satisfied: traitlets>=4.2 in /usr/local/lib/python3.10/dist-packages (from ipython>=7.0->elevenlabs) (5.7.1)\n",
            "Requirement already satisfied: prompt-toolkit!=3.0.0,!=3.0.1,<3.1.0,>=2.0.0 in /usr/local/lib/python3.10/dist-packages (from ipython>=7.0->elevenlabs) (3.0.43)\n",
            "Requirement already satisfied: pygments in /usr/local/lib/python3.10/dist-packages (from ipython>=7.0->elevenlabs) (2.16.1)\n",
            "Requirement already satisfied: backcall in /usr/local/lib/python3.10/dist-packages (from ipython>=7.0->elevenlabs) (0.2.0)\n",
            "Requirement already satisfied: matplotlib-inline in /usr/local/lib/python3.10/dist-packages (from ipython>=7.0->elevenlabs) (0.1.6)\n",
            "Requirement already satisfied: pexpect>4.3 in /usr/local/lib/python3.10/dist-packages (from ipython>=7.0->elevenlabs) (4.9.0)\n",
            "Requirement already satisfied: jsonpointer>=1.9 in /usr/local/lib/python3.10/dist-packages (from jsonpatch<2.0,>=1.33->langchain) (2.4)\n",
            "Requirement already satisfied: packaging<24.0,>=23.2 in /usr/local/lib/python3.10/dist-packages (from langchain-core<0.2,>=0.1.22->langchain) (23.2)\n",
            "Requirement already satisfied: annotated-types>=0.4.0 in /usr/local/lib/python3.10/dist-packages (from pydantic<3,>=1->langchain) (0.6.0)\n",
            "Requirement already satisfied: pydantic-core==2.16.2 in /usr/local/lib/python3.10/dist-packages (from pydantic<3,>=1->langchain) (2.16.2)\n",
            "Requirement already satisfied: charset-normalizer<4,>=2 in /usr/local/lib/python3.10/dist-packages (from requests<3,>=2->langchain) (3.3.2)\n",
            "Requirement already satisfied: urllib3<3,>=1.21.1 in /usr/local/lib/python3.10/dist-packages (from requests<3,>=2->langchain) (2.0.7)\n",
            "Requirement already satisfied: greenlet!=0.4.17 in /usr/local/lib/python3.10/dist-packages (from SQLAlchemy<3,>=1.4->langchain) (3.0.3)\n",
            "Requirement already satisfied: pycparser in /usr/local/lib/python3.10/dist-packages (from cffi>=1.12.0->curl-cffi>=0.6.0b9->duckduckgo-search) (2.21)\n",
            "Requirement already satisfied: parso<0.9.0,>=0.8.3 in /usr/local/lib/python3.10/dist-packages (from jedi>=0.16->ipython>=7.0->elevenlabs) (0.8.3)\n",
            "Requirement already satisfied: ptyprocess>=0.5 in /usr/local/lib/python3.10/dist-packages (from pexpect>4.3->ipython>=7.0->elevenlabs) (0.7.0)\n",
            "Requirement already satisfied: wcwidth in /usr/local/lib/python3.10/dist-packages (from prompt-toolkit!=3.0.0,!=3.0.1,<3.1.0,>=2.0.0->ipython>=7.0->elevenlabs) (0.2.13)\n",
            "Requirement already satisfied: mypy-extensions>=0.3.0 in /usr/local/lib/python3.10/dist-packages (from typing-inspect<1,>=0.4.0->dataclasses-json<0.7,>=0.5.7->langchain) (1.0.0)\n"
          ]
        }
      ],
      "source": [
        "!pip install langchain openai duckduckgo-search elevenlabs"
      ]
    },
    {
      "cell_type": "markdown",
      "source": [
        "Saving API Keys\n",
        "- Get OpenAI API key [here](https://platform.openai.com/account/api-keys)"
      ],
      "metadata": {
        "id": "P2GLeLMdMnma"
      }
    },
    {
      "cell_type": "code",
      "source": [
        "# Securely saving API keys\n",
        "\n",
        "import os\n",
        "from getpass import getpass\n",
        "\n",
        "os.environ['OPENAI_API_KEY'] = getpass()"
      ],
      "metadata": {
        "colab": {
          "base_uri": "https://localhost:8080/"
        },
        "id": "xeiwoc40Mg4h",
        "outputId": "7793d130-0e08-4808-b238-04ab31440bc3"
      },
      "execution_count": 12,
      "outputs": [
        {
          "name": "stdout",
          "output_type": "stream",
          "text": [
            "··········\n"
          ]
        }
      ]
    },
    {
      "cell_type": "markdown",
      "source": [
        "### Internet Access Agent\n",
        "\n",
        "Giving internet access to GPT-3/4 using DuckDuckGo search to get up to date information from the web!"
      ],
      "metadata": {
        "id": "fAKyUpa1MeFb"
      }
    },
    {
      "cell_type": "code",
      "source": [
        "from langchain.chat_models import ChatOpenAI"
      ],
      "metadata": {
        "id": "ir-w9_8yMdn9"
      },
      "execution_count": 13,
      "outputs": []
    },
    {
      "cell_type": "code",
      "source": [
        "# Initialize the LLM\n",
        "llm = ChatOpenAI(model = \"gpt-3.5-turbo\")\n",
        "\n",
        "llm.invoke(\"Who is the captain of Indian Cricket team?\")"
      ],
      "metadata": {
        "colab": {
          "base_uri": "https://localhost:8080/"
        },
        "id": "4aKkf899MK0X",
        "outputId": "6562258c-3c7d-44e4-d625-049bef4a759b"
      },
      "execution_count": 14,
      "outputs": [
        {
          "output_type": "execute_result",
          "data": {
            "text/plain": [
              "AIMessage(content='As of September 2021, Virat Kohli is the captain of the Indian Cricket team in Test matches, while Rohit Sharma is the captain in limited-overs formats.')"
            ]
          },
          "metadata": {},
          "execution_count": 14
        }
      ]
    },
    {
      "cell_type": "code",
      "source": [
        "llm.invoke(\"When did Hamas launch attack on Israel?\")"
      ],
      "metadata": {
        "colab": {
          "base_uri": "https://localhost:8080/"
        },
        "id": "tbyixYx20Usa",
        "outputId": "32692306-7c01-4e97-98b7-730338839d24"
      },
      "execution_count": 17,
      "outputs": [
        {
          "output_type": "execute_result",
          "data": {
            "text/plain": [
              "AIMessage(content='Hamas has launched multiple attacks on Israel over the years. One of the most notable attacks occurred in May 2021, when Hamas launched rockets at Israeli cities, leading to a military conflict between the two sides.')"
            ]
          },
          "metadata": {},
          "execution_count": 17
        }
      ]
    },
    {
      "cell_type": "markdown",
      "source": [],
      "metadata": {
        "id": "5H1Og7z_0Ubw"
      }
    },
    {
      "cell_type": "code",
      "source": [
        "from langchain.chat_models import ChatOpenAI\n",
        "from langchain.agents import initialize_agent, Tool, AgentType\n",
        "from langchain.tools import DuckDuckGoSearchRun\n",
        "\n",
        "# Initialize the LLM and DuckDuckGo search\n",
        "llm = ChatOpenAI(model = \"gpt-3.5-turbo\")\n",
        "search = DuckDuckGoSearchRun()\n",
        "\n",
        "# Create the DuckDuckGo tool\n",
        "duckduckgo_tool = Tool(\n",
        "    name=\"DuckDuckGo Search\",\n",
        "    func=search.run,\n",
        "    description=\"Use this tool when an Internet search is required\"\n",
        ")\n",
        "\n",
        "# Initialize the agent with the DuckDuckGo tool\n",
        "internet_agent = initialize_agent([duckduckgo_tool], llm, agent=AgentType.ZERO_SHOT_REACT_DESCRIPTION, verbose=True)"
      ],
      "metadata": {
        "id": "ALWRJFBkNjM7"
      },
      "execution_count": 15,
      "outputs": []
    },
    {
      "cell_type": "code",
      "source": [
        "# Run a search with the agent\n",
        "\n",
        "internet_agent.run(\"Who is the captain of Indian Cricket team?\")"
      ],
      "metadata": {
        "colab": {
          "base_uri": "https://localhost:8080/",
          "height": 246
        },
        "id": "gvwPHBiiO63A",
        "outputId": "fd96a220-ea44-41af-8f7a-d86863a21f83"
      },
      "execution_count": 16,
      "outputs": [
        {
          "output_type": "stream",
          "name": "stdout",
          "text": [
            "\n",
            "\n",
            "\u001b[1m> Entering new AgentExecutor chain...\u001b[0m\n",
            "\u001b[32;1m\u001b[1;3mI should search for the current captain of the Indian Cricket team.\n",
            "Action: DuckDuckGo Search\n",
            "Action Input: \"current captain of Indian Cricket team\"\u001b[0m\n",
            "Observation: \u001b[36;1m\u001b[1;3mThis is a list of cricketers who have captained the Indian men's cricket team for at least one Twenty 20 International. 13 players have captained India in men's T20Is, of which Mahendra Singh Dhoni and Rohit Sharma are the most successful with 41 wins each. India won the 2007 World T20, the inaugural T20 World Cup under the captaincy of Dhoni. Rohit Sharma (born April 30, 1987, Bansod, India) is an Indian international cricketer and the current captain of the Indian cricket team in all three international formats—Test cricket, One-Day International (ODI), and Twenty20 International (T20I). Sharma also captained the Mumbai Indians, a franchise team in the Indian Premier League (IPL), for 10 years and led them to five titles. It will be Rohit Sharma and not Hardik Pandya who will be leading the Indian team at the upcoming T20 World Cup in USA-West Indies. BCCI Secretary Jay Shah, speaking on the occasion of renaming of ... Cricket News: India will be playing the ICC T20 World Cup in 2024 under the captaincy of Rohit Sharma, as confirmed by BCCI secretary Jay Shah. Get all the latest updates on the tournament. Rohit will be now in action in T20 cricket during the IPL. The T20 World Cup 2024 will take place from June 1 to 29. India will begin their campaign against Ireland in New York on June 5 and take on arch-rivals Pakistan four days later. India's Schedule in T20 World Cup 2024. India vs Ireland - June 5 in New York. India vs Pakistan - June 9 in ...\u001b[0m\n",
            "Thought:\u001b[32;1m\u001b[1;3mI now know the current captain of the Indian Cricket team.\n",
            "Final Answer: The current captain of the Indian Cricket team is Rohit Sharma.\u001b[0m\n",
            "\n",
            "\u001b[1m> Finished chain.\u001b[0m\n"
          ]
        },
        {
          "output_type": "execute_result",
          "data": {
            "text/plain": [
              "'The current captain of the Indian Cricket team is Rohit Sharma.'"
            ],
            "application/vnd.google.colaboratory.intrinsic+json": {
              "type": "string"
            }
          },
          "metadata": {},
          "execution_count": 16
        }
      ]
    },
    {
      "cell_type": "code",
      "source": [
        "# Run a search with the agent with verbose\n",
        "\n",
        "internet_agent.run(\"When did Hamas launch attack on Israel?\")"
      ],
      "metadata": {
        "colab": {
          "base_uri": "https://localhost:8080/",
          "height": 246
        },
        "id": "HTSUaMaUPVui",
        "outputId": "6a00b59f-79e8-46e2-9307-be267218a53e"
      },
      "execution_count": 18,
      "outputs": [
        {
          "output_type": "stream",
          "name": "stdout",
          "text": [
            "\n",
            "\n",
            "\u001b[1m> Entering new AgentExecutor chain...\u001b[0m\n",
            "\u001b[32;1m\u001b[1;3mI need to search for news articles or updates on this recent event.\n",
            "Action: DuckDuckGo Search\n",
            "Action Input: \"Hamas attack on Israel date\"\u001b[0m\n",
            "Observation: \u001b[36;1m\u001b[1;3mThe Israel-Hamas war began on 7 October 2023 when Hamas launched an unprecedented multi-faceted and sustained assault on Israel from the Gaza Strip. [1] Date: 7-8 October 2023 ... during the Hamas-led attack on Israel. Deif said more than 5,000 rockets had been fired from the Gaza Strip into Israel in a span of 20 minutes at the start of the operation. Israeli sources reported the launch of 3,000 projectiles from Gaza, killing five. Hatem Ali/AP More than a month after Hamas terrorists launched an unprecedented surprise attack on Israel and infiltrated the country by air, land and sea on Oct. 7, the region stands on high alert amid fears of a wider conflict and thousands dead on both sides of the Israel-Gaza border. Israel-Hamas War, war between Israel and Palestinian militants, especially Hamas and the Palestinian Islamic Jihad (PIJ), that began on October 7, 2023, when Hamas launched a land, sea, and air assault on Israel from the Gaza Strip. 1:46 p.m. Israel says it has struck 21 buildings that house Hamas military operations. 2:29 p.m. The United States makes its first statement, with the National Security Council condemning the...\u001b[0m\n",
            "Thought:\u001b[32;1m\u001b[1;3mI now know the date when Hamas launched the attack on Israel.\n",
            "Final Answer: Hamas launched the attack on Israel on October 7, 2023.\u001b[0m\n",
            "\n",
            "\u001b[1m> Finished chain.\u001b[0m\n"
          ]
        },
        {
          "output_type": "execute_result",
          "data": {
            "text/plain": [
              "'Hamas launched the attack on Israel on October 7, 2023.'"
            ],
            "application/vnd.google.colaboratory.intrinsic+json": {
              "type": "string"
            }
          },
          "metadata": {},
          "execution_count": 18
        }
      ]
    },
    {
      "cell_type": "code",
      "source": [
        "# Run a search with the agent with verbose\n",
        "\n",
        "internet_agent.run(\"When did world war I happen?\")"
      ],
      "metadata": {
        "id": "NBPgYlg4ASz7"
      },
      "execution_count": null,
      "outputs": []
    },
    {
      "cell_type": "markdown",
      "source": [
        "### Giving GPT a voice!\n",
        "\n",
        "- Get ElevenLabs API Key [here](https://elevenlabs.io/)\n",
        "(you can use free-tier)"
      ],
      "metadata": {
        "id": "hx-svhO5TYJ6"
      }
    },
    {
      "cell_type": "code",
      "source": [
        "from langchain.chat_models import ChatOpenAI\n",
        "from langchain.agents import initialize_agent, AgentType, load_tools\n",
        "\n",
        "llm = ChatOpenAI(temperature=0)"
      ],
      "metadata": {
        "id": "TnZBDqG1mELF"
      },
      "execution_count": null,
      "outputs": []
    },
    {
      "cell_type": "code",
      "source": [
        "print(llm.predict(\"Tell me a good joke and read it for me.\"))"
      ],
      "metadata": {
        "id": "pXO3_ZnPmTeT"
      },
      "execution_count": null,
      "outputs": []
    },
    {
      "cell_type": "code",
      "source": [
        "os.environ['ELEVEN_API_KEY'] = getpass(\"Enter ElevenLabs Key: \")"
      ],
      "metadata": {
        "id": "eBsEUQsqmsek"
      },
      "execution_count": null,
      "outputs": []
    },
    {
      "cell_type": "code",
      "source": [
        "from langchain.llms import OpenAI\n",
        "from langchain.agents import initialize_agent, AgentType, load_tools\n",
        "from IPython.display import Audio\n",
        "\n",
        "llm = OpenAI(temperature=0)\n",
        "tools = load_tools([\"eleven_labs_text2speech\"])\n",
        "agent = initialize_agent(\n",
        "    tools=tools,\n",
        "    llm=llm,\n",
        "    agent=AgentType.STRUCTURED_CHAT_ZERO_SHOT_REACT_DESCRIPTION,\n",
        "    verbose=True,\n",
        ")\n",
        "\n",
        "audio_file = agent.run(\"Tell me a joke and read it out for me.\")\n",
        "# tts.play(audio_file)\n",
        "Audio(audio_file, autoplay=False)\n"
      ],
      "metadata": {
        "id": "ljqXS-9qnzIN"
      },
      "execution_count": null,
      "outputs": []
    },
    {
      "cell_type": "code",
      "source": [],
      "metadata": {
        "id": "yQ_prR6ZoLdO"
      },
      "execution_count": null,
      "outputs": []
    },
    {
      "cell_type": "markdown",
      "source": [
        "Similarly, we can embed a lot of functionalities to LLMs like:\n",
        "- Ability to run code\n",
        "- Analyse excel sheets\n",
        "- Do complex math\n",
        "<br>\n",
        "... many more\n",
        "\n",
        "Link to Langchain tools [library](https://python.langchain.com/docs/integrations/tools)\n",
        "\n",
        "\n"
      ],
      "metadata": {
        "id": "Sxqt19w8qI0m"
      }
    },
    {
      "cell_type": "code",
      "source": [],
      "metadata": {
        "id": "f1GJTWAkqlT4"
      },
      "execution_count": null,
      "outputs": []
    }
  ]
}