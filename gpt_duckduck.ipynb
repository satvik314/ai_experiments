{
  "nbformat": 4,
  "nbformat_minor": 0,
  "metadata": {
    "colab": {
      "provenance": [],
      "authorship_tag": "ABX9TyNFhigMSqvHgl1GpmpYQS6r",
      "include_colab_link": true
    },
    "kernelspec": {
      "name": "python3",
      "display_name": "Python 3"
    },
    "language_info": {
      "name": "python"
    }
  },
  "cells": [
    {
      "cell_type": "markdown",
      "metadata": {
        "id": "view-in-github",
        "colab_type": "text"
      },
      "source": [
        "<a href=\"https://colab.research.google.com/github/satvik314/ai_experiments/blob/main/gpt_duckduck.ipynb\" target=\"_parent\"><img src=\"https://colab.research.google.com/assets/colab-badge.svg\" alt=\"Open In Colab\"/></a>"
      ]
    },
    {
      "cell_type": "code",
      "execution_count": 5,
      "metadata": {
        "id": "061sz4AZEXPF"
      },
      "outputs": [],
      "source": [
        "# Installing essential libraries\n",
        "!pip install -qU langchain openai duckpy"
      ]
    },
    {
      "cell_type": "code",
      "source": [
        "# Importing essential libraries\n",
        "from langchain.utilities import GoogleSerperAPIWrapper\n",
        "from langchain.llms.openai import OpenAI\n",
        "from langchain.agents import initialize_agent, Tool\n",
        "from langchain.agents import AgentType\n",
        "from langchain.tools import tool\n",
        "\n",
        "from duckpy import Client\n",
        "duckduckgo_client = Client()"
      ],
      "metadata": {
        "id": "OBXdMW5oFA0g"
      },
      "execution_count": 3,
      "outputs": []
    },
    {
      "cell_type": "code",
      "source": [
        "# Storing OpenAI API key\n",
        "import os\n",
        "from getpass import getpass\n",
        "\n",
        "os.environ['OPENAI_API_KEY'] = getpass()"
      ],
      "metadata": {
        "colab": {
          "base_uri": "https://localhost:8080/"
        },
        "id": "RlffdK79GMh5",
        "outputId": "3734e750-0525-4e57-bc86-644e80d3319c"
      },
      "execution_count": 4,
      "outputs": [
        {
          "name": "stdout",
          "output_type": "stream",
          "text": [
            "··········\n"
          ]
        }
      ]
    },
    {
      "cell_type": "code",
      "source": [
        "# Creating a search agent\n",
        "\n",
        "@tool(\"search\")\n",
        "def search_api(query: str) -> str:\n",
        "   \"\"\"Useful for when you need to answer questions about current events. You should ask targeted questions.\"\"\"\n",
        "   output = duckduckgo_client.search(query)\n",
        "   output = output[:5]\n",
        "   return str(output)\n"
      ],
      "metadata": {
        "id": "y72xgatcGupo"
      },
      "execution_count": 6,
      "outputs": []
    },
    {
      "cell_type": "code",
      "source": [
        "llm = OpenAI(temperature = 0)\n",
        "\n",
        "tools = []\n",
        "tools.append(search_api)\n",
        "agent = initialize_agent(tools, llm, agent = \"zero-shot-react-description\", verbose = True)\n",
        "\n",
        "agent(\"When did Russia invade Ukraine?\")"
      ],
      "metadata": {
        "colab": {
          "base_uri": "https://localhost:8080/"
        },
        "id": "GUnFUnwRHltk",
        "outputId": "d4957dff-36cc-425b-badd-c7e643604c21"
      },
      "execution_count": 9,
      "outputs": [
        {
          "output_type": "stream",
          "name": "stdout",
          "text": [
            "\n",
            "\n",
            "\u001b[1m> Entering new AgentExecutor chain...\u001b[0m\n",
            "\u001b[32;1m\u001b[1;3m I need to find out when Russia invaded Ukraine\n",
            "Action: search\n",
            "Action Input: \"Russia Ukraine invasion date\"\u001b[0m\n",
            "Observation: \u001b[36;1m\u001b[1;3m[{'title': 'Timeline of the Russian invasion of Ukraine: What we know so far - CNN', 'description': 'Stirrings in Crimea 3:59 a.m. (8:59 p.m. ET, Wednesday): Livestream video from a border crossing station between Crimea - which was annexed by Russia in 2014 - and parts of southern Ukraine...', 'url': 'https://www.cnn.com/2022/02/24/europe/ukraine-russia-attack-timeline-intl/index.html'}, {'title': 'Latest on Ukraine: Russia and Ukraine trade drone strikes : NPR', 'description': \"Catch up on key developments and the latest in-depth coverage of Russia's invasion of Ukraine. ... The parties agreed to meet again — the third time — though a date wasn't set.\", 'url': 'https://www.npr.org/2023/08/07/1191675506/russia-ukraine-war-news'}, {'title': 'Russia-Ukraine war at a glance: what we know on day 532 of the invasion', 'description': 'First published on Tue 8 Aug 2023 19.05 EDT Ukrainian forces have made an attempt to cross the Dnieper River dividing liberated and occupied Kherson, in a potential breach of what has for months...', 'url': 'https://www.theguardian.com/world/2023/aug/09/russia-ukraine-war-at-a-glance-what-we-know-on-day-532-of-the-invasion'}, {'title': \"Timeline: The events leading up to Russia's invasion of Ukraine\", 'description': \"Feb 28 (Reuters) - Russia launched a large-scale invasion of Ukraine on Feb. 24. Here is a timeline of Ukraine's fraught relationship with Moscow since it won independence in 1991 and the...\", 'url': 'https://www.reuters.com/world/europe/events-leading-up-russias-invasion-ukraine-2022-02-28/'}, {'title': 'Russia-Ukraine war: List of key events, day 534 - Al Jazeera', 'description': 'Russia-Ukraine war: List of key events, day 534. These are the main developments as the Russian invasion of Ukraine enters its 534th day. A Russian sniper sits at his position towards Ukrainian ...', 'url': 'https://www.aljazeera.com/news/2023/8/11/russia-ukraine-war-list-of-key-events-day-534'}]\u001b[0m\n",
            "Thought:\u001b[32;1m\u001b[1;3m I should look at the timeline of events leading up to the invasion\n",
            "Action: search\n",
            "Action Input: \"Timeline of events leading up to Russia's invasion of Ukraine\"\u001b[0m\n",
            "Observation: \u001b[36;1m\u001b[1;3m[{'title': \"Timeline: The events leading up to Russia's invasion of Ukraine\", 'description': 'March 1, 20221:03 AM PSTUpdated a year ago People take cover as an air-raid siren sounds, near an apartment building damaged by recent shelling in Kyiv, Ukraine February 26, 2022. REUTERS/Gleb...', 'url': 'https://www.reuters.com/world/europe/events-leading-up-russias-invasion-ukraine-2022-02-28/'}, {'title': 'Key Moments in the Russia-Ukraine War: A Timeline - The New York Times', 'description': \"February 2022 Russian forces attacked the Ukrainian capital, Kyiv, and the country's second-largest city, Kharkiv, in an attempt to overthrow President Volodymyr Zelensky's government. Many...\", 'url': 'https://www.nytimes.com/article/ukraine-russia-war-timeline.html'}, {'title': 'A timeline of the tensions between Russia and Ukraine.', 'description': \"Here are some pivotal moments in the years leading up to Moscow's decision to invade the country on Feb. 24, as well as a brief look at relations between Russia and Ukraine in the 20th...\", 'url': 'https://www.nytimes.com/2022/02/18/world/europe/russia-ukraine-timeline.html'}, {'title': 'Russian invasion of Ukraine: A timeline of key events on the 1st ...', 'description': 'February 23, 2023 Putin orders a so-called \"special military operation\" in Ukraine. Photo: Sergei Illnitsky/EPA-EFE/Shutterstock, Video: Reuters A photo provided by the Ukrainian President\\'s...', 'url': 'https://www.cnn.com/interactive/2023/02/europe/russia-ukraine-war-timeline/index.html'}, {'title': 'Russia-Ukraine war: A timeline of how we got here | CTV News', 'description': \"World Explainer A timeline of major events leading up to Russia's invasion of Ukraine 03:54 Ukraine recaptures Russian-controlled village 04:35 Officials urge evacuations in...\", 'url': 'https://www.ctvnews.ca/world/a-timeline-of-major-events-leading-up-to-russia-s-invasion-of-ukraine-1.5751379'}]\u001b[0m\n",
            "Thought:\u001b[32;1m\u001b[1;3m I should look for the date of the invasion\n",
            "Action: search\n",
            "Action Input: \"date of Russia's invasion of Ukraine\"\u001b[0m\n",
            "Observation: \u001b[36;1m\u001b[1;3m[{'title': 'Timeline of the Russian invasion of Ukraine: What we know so far - CNN', 'description': 'Russia launched an invasion of Ukraine on Thursday, sending troops into the ex-Soviet nation from three fronts and firing missiles on several locations near the capital, Kyiv, in a broad...', 'url': 'https://www.cnn.com/2022/02/24/europe/ukraine-russia-attack-timeline-intl/index.html'}, {'title': \"Timeline: The events leading up to Russia's invasion of Ukraine\", 'description': \"Feb 28 (Reuters) - Russia launched a large-scale invasion of Ukraine on Feb. 24. Here is a timeline of Ukraine's fraught relationship with Moscow since it won independence in 1991 and the...\", 'url': 'https://www.reuters.com/world/europe/events-leading-up-russias-invasion-ukraine-2022-02-28/'}, {'title': 'Key Moments in the Russia-Ukraine War: A Timeline - The New York Times', 'description': 'Russian forces began their full-scale invasion of Ukraine on Feb. 24, 2022. Since then, Western officials estimate that hundreds of thousands of people have been killed, millions of...', 'url': 'https://www.nytimes.com/article/ukraine-russia-war-timeline.html'}, {'title': 'Russian invasion of Ukraine: A timeline of key events on the 1st ...', 'description': 'February 23, 2023 Putin orders a so-called \"special military operation\" in Ukraine. Photo: Sergei Illnitsky/EPA-EFE/Shutterstock, Video: Reuters A photo provided by the Ukrainian President\\'s...', 'url': 'https://www.cnn.com/interactive/2023/02/europe/russia-ukraine-war-timeline/index.html'}, {'title': 'Russia-Ukraine war at a glance: what we know on day 533 of the invasion', 'description': \"Russia says it downed 11 Ukrainian drones near Crimea overnight; fuel depot in Ukraine's western Rivne region struck by Russia Russia's defence ministry said early on Thursday it had downed 11 ...\", 'url': 'https://www.theguardian.com/world/2023/aug/10/russia-ukraine-war-at-a-glance-what-we-know-on-day-533-of-the-invasion'}]\u001b[0m\n",
            "Thought:\u001b[32;1m\u001b[1;3m I now know the date of the invasion\n",
            "Final Answer: Russia invaded Ukraine on February 24, 2022.\u001b[0m\n",
            "\n",
            "\u001b[1m> Finished chain.\u001b[0m\n"
          ]
        },
        {
          "output_type": "execute_result",
          "data": {
            "text/plain": [
              "{'input': 'When did Russia invade Ukraine?',\n",
              " 'output': 'Russia invaded Ukraine on February 24, 2022.'}"
            ]
          },
          "metadata": {},
          "execution_count": 9
        }
      ]
    },
    {
      "cell_type": "code",
      "source": [],
      "metadata": {
        "id": "0qwBU58DH_UY"
      },
      "execution_count": null,
      "outputs": []
    }
  ]
}