{
  "nbformat": 4,
  "nbformat_minor": 0,
  "metadata": {
    "colab": {
      "provenance": [],
      "authorship_tag": "ABX9TyO6Pz3P8UBYvuBAC3JI4wze",
      "include_colab_link": true
    },
    "kernelspec": {
      "name": "python3",
      "display_name": "Python 3"
    },
    "language_info": {
      "name": "python"
    }
  },
  "cells": [
    {
      "cell_type": "markdown",
      "metadata": {
        "id": "view-in-github",
        "colab_type": "text"
      },
      "source": [
        "<a href=\"https://colab.research.google.com/github/satvik314/ai_experiments/blob/main/Python_Basics_for_AI.ipynb\" target=\"_parent\"><img src=\"https://colab.research.google.com/assets/colab-badge.svg\" alt=\"Open In Colab\"/></a>"
      ]
    },
    {
      "cell_type": "markdown",
      "source": [
        "## Variables"
      ],
      "metadata": {
        "id": "i0kOhPM69075"
      }
    },
    {
      "cell_type": "code",
      "execution_count": 60,
      "metadata": {
        "colab": {
          "base_uri": "https://localhost:8080/"
        },
        "id": "yeuBP6rY9wak",
        "outputId": "c3fae108-88aa-4e94-9fd2-8c867c8bcab1"
      },
      "outputs": [
        {
          "output_type": "stream",
          "name": "stdout",
          "text": [
            "Hello World!\n"
          ]
        }
      ],
      "source": [
        "print(\"Hello World!\")"
      ]
    },
    {
      "cell_type": "code",
      "source": [
        "name = \"Satvik\"\n",
        "\n",
        "print(\"Hello \" + name + \"!\")"
      ],
      "metadata": {
        "colab": {
          "base_uri": "https://localhost:8080/"
        },
        "id": "Zb_VkQ_r95NT",
        "outputId": "c332614b-4589-496d-9c76-6af0e37fd625"
      },
      "execution_count": 62,
      "outputs": [
        {
          "output_type": "stream",
          "name": "stdout",
          "text": [
            "Hello Satvik!\n"
          ]
        }
      ]
    },
    {
      "cell_type": "code",
      "source": [
        "type(name)"
      ],
      "metadata": {
        "colab": {
          "base_uri": "https://localhost:8080/"
        },
        "id": "GNrDCrZn-LI3",
        "outputId": "3d90d886-dd31-41e0-fbbc-a539f7f1e24b"
      },
      "execution_count": 63,
      "outputs": [
        {
          "output_type": "execute_result",
          "data": {
            "text/plain": [
              "str"
            ]
          },
          "metadata": {},
          "execution_count": 63
        }
      ]
    },
    {
      "cell_type": "code",
      "source": [
        "work_exp = 4\n",
        "\n",
        "type(work_exp)"
      ],
      "metadata": {
        "colab": {
          "base_uri": "https://localhost:8080/"
        },
        "id": "3AEFTcec-bkU",
        "outputId": "d4139e72-d632-4d56-8aea-b4f2f1229c2d"
      },
      "execution_count": 64,
      "outputs": [
        {
          "output_type": "execute_result",
          "data": {
            "text/plain": [
              "int"
            ]
          },
          "metadata": {},
          "execution_count": 64
        }
      ]
    },
    {
      "cell_type": "code",
      "source": [
        "work_exp"
      ],
      "metadata": {
        "colab": {
          "base_uri": "https://localhost:8080/"
        },
        "id": "o8G4uf1od9NZ",
        "outputId": "f36cdaf0-18f3-4ee4-c7e0-763a2fd6adff"
      },
      "execution_count": 65,
      "outputs": [
        {
          "output_type": "execute_result",
          "data": {
            "text/plain": [
              "4"
            ]
          },
          "metadata": {},
          "execution_count": 65
        }
      ]
    },
    {
      "cell_type": "code",
      "source": [
        "work_exp_float = 3.5\n",
        "\n",
        "type(work_exp_float)"
      ],
      "metadata": {
        "colab": {
          "base_uri": "https://localhost:8080/"
        },
        "id": "QAnK3pz7-pNb",
        "outputId": "b13603bd-2229-47ac-a432-c4b13e5bbd16"
      },
      "execution_count": 66,
      "outputs": [
        {
          "output_type": "execute_result",
          "data": {
            "text/plain": [
              "float"
            ]
          },
          "metadata": {},
          "execution_count": 66
        }
      ]
    },
    {
      "cell_type": "code",
      "source": [
        "print(\"Hello \" + name + \"! \" + \"Your work experience is \" + str(work_exp_float) + \" years\")"
      ],
      "metadata": {
        "colab": {
          "base_uri": "https://localhost:8080/"
        },
        "id": "tD8AfV-_-xSY",
        "outputId": "90f31c5d-7eba-401e-add1-907e942a2ca8"
      },
      "execution_count": 67,
      "outputs": [
        {
          "output_type": "stream",
          "name": "stdout",
          "text": [
            "Hello Satvik! Your work experience is 3.5 years\n"
          ]
        }
      ]
    },
    {
      "cell_type": "markdown",
      "source": [
        "##Lists and Dictionaries"
      ],
      "metadata": {
        "id": "ksg7EsYoANsQ"
      }
    },
    {
      "cell_type": "code",
      "source": [
        "attendees = [\"Satvik\", \"Aditya\", \"Prathmesh\", \"Aaryan\", \"Shiva\"]"
      ],
      "metadata": {
        "id": "7ApjJdyC_J9n"
      },
      "execution_count": null,
      "outputs": []
    },
    {
      "cell_type": "code",
      "source": [
        "attendees"
      ],
      "metadata": {
        "colab": {
          "base_uri": "https://localhost:8080/"
        },
        "id": "O_1HnHHLBHJL",
        "outputId": "72999ee8-ac61-4687-dca3-6d560a162910"
      },
      "execution_count": 68,
      "outputs": [
        {
          "output_type": "execute_result",
          "data": {
            "text/plain": [
              "['Satvik', 'Aditya', 'Prathmesh', 'Aaryan', 'Shiva']"
            ]
          },
          "metadata": {},
          "execution_count": 68
        }
      ]
    },
    {
      "cell_type": "code",
      "source": [
        "type(attendees)"
      ],
      "metadata": {
        "colab": {
          "base_uri": "https://localhost:8080/"
        },
        "id": "Elqj8WC6BKZu",
        "outputId": "e3c2b5ab-f24d-43d5-be16-eae27a401d97"
      },
      "execution_count": 69,
      "outputs": [
        {
          "output_type": "execute_result",
          "data": {
            "text/plain": [
              "list"
            ]
          },
          "metadata": {},
          "execution_count": 69
        }
      ]
    },
    {
      "cell_type": "code",
      "source": [
        "len(attendees)"
      ],
      "metadata": {
        "colab": {
          "base_uri": "https://localhost:8080/"
        },
        "id": "vTNoW1ddBM_x",
        "outputId": "44acf3a6-75af-4f90-9cc2-ac04a5f922bd"
      },
      "execution_count": 70,
      "outputs": [
        {
          "output_type": "execute_result",
          "data": {
            "text/plain": [
              "5"
            ]
          },
          "metadata": {},
          "execution_count": 70
        }
      ]
    },
    {
      "cell_type": "code",
      "source": [
        "attendees[2]"
      ],
      "metadata": {
        "colab": {
          "base_uri": "https://localhost:8080/",
          "height": 36
        },
        "id": "8FoCCG2jBPhR",
        "outputId": "9633b086-2454-44de-b6a8-490eff051b66"
      },
      "execution_count": 72,
      "outputs": [
        {
          "output_type": "execute_result",
          "data": {
            "text/plain": [
              "'Prathmesh'"
            ],
            "application/vnd.google.colaboratory.intrinsic+json": {
              "type": "string"
            }
          },
          "metadata": {},
          "execution_count": 72
        }
      ]
    },
    {
      "cell_type": "code",
      "source": [
        "type(attendees[2])"
      ],
      "metadata": {
        "colab": {
          "base_uri": "https://localhost:8080/"
        },
        "id": "odIQQGuCBSqc",
        "outputId": "ce0ce7a9-e83f-424b-98a0-4bb01d9862c2"
      },
      "execution_count": 73,
      "outputs": [
        {
          "output_type": "execute_result",
          "data": {
            "text/plain": [
              "str"
            ]
          },
          "metadata": {},
          "execution_count": 73
        }
      ]
    },
    {
      "cell_type": "code",
      "source": [
        "attendee_time = [60, 50, 2, 40, 33]\n",
        "attendee_time"
      ],
      "metadata": {
        "colab": {
          "base_uri": "https://localhost:8080/"
        },
        "id": "OvSXtMbfBjo7",
        "outputId": "035cd4aa-db8f-4941-eb34-5c8a36e5a59d"
      },
      "execution_count": 74,
      "outputs": [
        {
          "output_type": "execute_result",
          "data": {
            "text/plain": [
              "[60, 50, 2, 40, 33]"
            ]
          },
          "metadata": {},
          "execution_count": 74
        }
      ]
    },
    {
      "cell_type": "code",
      "source": [
        "type(attendee_time[0])"
      ],
      "metadata": {
        "colab": {
          "base_uri": "https://localhost:8080/"
        },
        "id": "H4M8-ZNWB4_x",
        "outputId": "ed772bad-8428-4110-9f80-226b825b39f7"
      },
      "execution_count": 75,
      "outputs": [
        {
          "output_type": "execute_result",
          "data": {
            "text/plain": [
              "int"
            ]
          },
          "metadata": {},
          "execution_count": 75
        }
      ]
    },
    {
      "cell_type": "code",
      "source": [
        "attendee_dict = {\"Satvik\": 60, \"Aditya\": 50, \"Prathmesh\": 2, \"Aaryan\": 40, \"Shiva\": 33}"
      ],
      "metadata": {
        "id": "TyBA6THKB8Pm"
      },
      "execution_count": null,
      "outputs": []
    },
    {
      "cell_type": "code",
      "source": [
        "type(attendee_dict)"
      ],
      "metadata": {
        "colab": {
          "base_uri": "https://localhost:8080/"
        },
        "id": "15RNjfOZCMvq",
        "outputId": "b3e7ccde-50ab-4c17-c0d3-52829cc70ef4"
      },
      "execution_count": 76,
      "outputs": [
        {
          "output_type": "execute_result",
          "data": {
            "text/plain": [
              "dict"
            ]
          },
          "metadata": {},
          "execution_count": 76
        }
      ]
    },
    {
      "cell_type": "code",
      "source": [
        "attendee_dict['Aaryan']"
      ],
      "metadata": {
        "colab": {
          "base_uri": "https://localhost:8080/"
        },
        "id": "I6SVf8hMCO74",
        "outputId": "2a3b0107-0c04-41eb-d8e8-61793c2d18b9"
      },
      "execution_count": 77,
      "outputs": [
        {
          "output_type": "execute_result",
          "data": {
            "text/plain": [
              "40"
            ]
          },
          "metadata": {},
          "execution_count": 77
        }
      ]
    },
    {
      "cell_type": "code",
      "source": [
        "len(attendee_dict)"
      ],
      "metadata": {
        "colab": {
          "base_uri": "https://localhost:8080/"
        },
        "id": "1TGWUQrFCTto",
        "outputId": "f778cdc0-ab38-4aeb-b532-87e17e2d372f"
      },
      "execution_count": 78,
      "outputs": [
        {
          "output_type": "execute_result",
          "data": {
            "text/plain": [
              "5"
            ]
          },
          "metadata": {},
          "execution_count": 78
        }
      ]
    },
    {
      "cell_type": "markdown",
      "source": [
        "## Loops (If-Else, For and While)"
      ],
      "metadata": {
        "id": "qOVU0ZEcC00w"
      }
    },
    {
      "cell_type": "code",
      "source": [
        "a = -72\n",
        "b = 33"
      ],
      "metadata": {
        "id": "xZfnr7LPCtyw"
      },
      "execution_count": 81,
      "outputs": []
    },
    {
      "cell_type": "code",
      "source": [
        "if a>b:\n",
        "  print(\"a is greater than b\")"
      ],
      "metadata": {
        "id": "kCIAAAmzC0U1"
      },
      "execution_count": 82,
      "outputs": []
    },
    {
      "cell_type": "code",
      "source": [
        "a = 33\n",
        "b = 33\n",
        "\n",
        "if a>b:\n",
        "  print(\"a is greater than b\")\n",
        "else:\n",
        "  print(\"a is not greater than b\")"
      ],
      "metadata": {
        "colab": {
          "base_uri": "https://localhost:8080/"
        },
        "id": "_7nLx5jgDVKn",
        "outputId": "7ebda08c-9281-4ac2-fba2-f7e052bec972"
      },
      "execution_count": 84,
      "outputs": [
        {
          "output_type": "stream",
          "name": "stdout",
          "text": [
            "a is not greater than b\n"
          ]
        }
      ]
    },
    {
      "cell_type": "code",
      "source": [
        "a = 30\n",
        "b = 30\n",
        "\n",
        "if a>b:\n",
        "  print(\"a is greater than b\")\n",
        "elif a<b:\n",
        "  print(\"a is less than b\")\n",
        "else:\n",
        "  print(\"a and b are equal\")"
      ],
      "metadata": {
        "colab": {
          "base_uri": "https://localhost:8080/"
        },
        "id": "oXuLr0OkDa-q",
        "outputId": "45514865-8443-49b2-f05c-a6005b410a54"
      },
      "execution_count": 87,
      "outputs": [
        {
          "output_type": "stream",
          "name": "stdout",
          "text": [
            "a and b are equal\n"
          ]
        }
      ]
    },
    {
      "cell_type": "code",
      "source": [
        "attendees = [\"Satvik\", \"Aditya\", \"Prathmesh\", \"Aaryan\", \"Shiva\"]\n",
        "\n",
        "for person in attendees:\n",
        "  print(person)"
      ],
      "metadata": {
        "colab": {
          "base_uri": "https://localhost:8080/"
        },
        "id": "5ehGOri8DmSe",
        "outputId": "693bfb37-32f2-43d9-bd71-670b35b2ff21"
      },
      "execution_count": 88,
      "outputs": [
        {
          "output_type": "stream",
          "name": "stdout",
          "text": [
            "Satvik\n",
            "Aditya\n",
            "Prathmesh\n",
            "Aaryan\n",
            "Shiva\n"
          ]
        }
      ]
    },
    {
      "cell_type": "code",
      "source": [
        "attendees = [\"Satvik\", \"Aditya\", \"Prathmesh\", \"Aaryan\", \"Shiva\"]\n",
        "\n",
        "for x in attendees:\n",
        "  print(x)"
      ],
      "metadata": {
        "colab": {
          "base_uri": "https://localhost:8080/"
        },
        "id": "8A4QJl2cjMXJ",
        "outputId": "dc3b4bae-8bf4-400e-ead3-84045e48479c"
      },
      "execution_count": 89,
      "outputs": [
        {
          "output_type": "stream",
          "name": "stdout",
          "text": [
            "Satvik\n",
            "Aditya\n",
            "Prathmesh\n",
            "Aaryan\n",
            "Shiva\n"
          ]
        }
      ]
    },
    {
      "cell_type": "code",
      "source": [
        "name = \"Satvik\"\n",
        "\n",
        "\"Mr. \" + \"Satvik\""
      ],
      "metadata": {
        "colab": {
          "base_uri": "https://localhost:8080/",
          "height": 36
        },
        "id": "DT77XA7yjuSh",
        "outputId": "1f5f0d44-b140-4560-d80c-ec3f8d9b1bc9"
      },
      "execution_count": 91,
      "outputs": [
        {
          "output_type": "execute_result",
          "data": {
            "text/plain": [
              "'Mr. Satvik'"
            ],
            "application/vnd.google.colaboratory.intrinsic+json": {
              "type": "string"
            }
          },
          "metadata": {},
          "execution_count": 91
        }
      ]
    },
    {
      "cell_type": "code",
      "source": [
        "attendees = [\"Satvik\", \"Aditya\", \"Prathmesh\", \"Aaryan\", \"Shiva\"]\n",
        "\n",
        "for person in attendees:\n",
        "  print(\"Mr. \"+ person)"
      ],
      "metadata": {
        "colab": {
          "base_uri": "https://localhost:8080/"
        },
        "id": "zT0xkDKyEL3n",
        "outputId": "f0abcb81-5ce5-4d25-9730-52f4ddfca472"
      },
      "execution_count": 92,
      "outputs": [
        {
          "output_type": "stream",
          "name": "stdout",
          "text": [
            "Mr. Satvik\n",
            "Mr. Aditya\n",
            "Mr. Prathmesh\n",
            "Mr. Aaryan\n",
            "Mr. Shiva\n"
          ]
        }
      ]
    },
    {
      "cell_type": "code",
      "source": [
        "attendees = [\"Satvik\", \"Aditya\", \"Prathmesh\", \"Aaryan\", \"Shiva\"]\n",
        "\n",
        "new_list = []\n",
        "for person in attendees:\n",
        "  new_list.append(\"Mr. \" + person)\n",
        "\n",
        "new_list"
      ],
      "metadata": {
        "colab": {
          "base_uri": "https://localhost:8080/"
        },
        "id": "mxgK-EOGF1Ws",
        "outputId": "cc7394ae-6739-4e55-9239-8c0ff2f66633"
      },
      "execution_count": 93,
      "outputs": [
        {
          "output_type": "execute_result",
          "data": {
            "text/plain": [
              "['Mr. Satvik', 'Mr. Aditya', 'Mr. Prathmesh', 'Mr. Aaryan', 'Mr. Shiva']"
            ]
          },
          "metadata": {},
          "execution_count": 93
        }
      ]
    },
    {
      "cell_type": "markdown",
      "source": [
        "not clear? Let's use ChatGPT"
      ],
      "metadata": {
        "id": "VcrNXcGHGNoy"
      }
    },
    {
      "cell_type": "code",
      "source": [
        "# print first 10 numbers\n",
        "\n",
        "count = 0\n",
        "while count < 10:\n",
        "  print(count)\n",
        "  count = count + 1\n"
      ],
      "metadata": {
        "colab": {
          "base_uri": "https://localhost:8080/"
        },
        "id": "LIlcBdkMGBFn",
        "outputId": "8797b1da-af7c-48cd-c993-f0f5e1eb3e45"
      },
      "execution_count": 94,
      "outputs": [
        {
          "output_type": "stream",
          "name": "stdout",
          "text": [
            "0\n",
            "1\n",
            "2\n",
            "3\n",
            "4\n",
            "5\n",
            "6\n",
            "7\n",
            "8\n",
            "9\n"
          ]
        }
      ]
    },
    {
      "cell_type": "markdown",
      "source": [
        "Let's generate some practice questions!"
      ],
      "metadata": {
        "id": "TtBcqinQGtgJ"
      }
    },
    {
      "cell_type": "markdown",
      "source": [
        "## FUNctions!"
      ],
      "metadata": {
        "id": "zRNJH3vpHAuj"
      }
    },
    {
      "cell_type": "code",
      "source": [
        "def add_two(x):\n",
        "  return x+2"
      ],
      "metadata": {
        "id": "R4Ij5_7uJ2F2"
      },
      "execution_count": 96,
      "outputs": []
    },
    {
      "cell_type": "code",
      "source": [
        "add_two(10)"
      ],
      "metadata": {
        "colab": {
          "base_uri": "https://localhost:8080/"
        },
        "id": "g_fc7iRmmKOH",
        "outputId": "8624dafc-8a1c-47b5-b144-a83461722816"
      },
      "execution_count": 97,
      "outputs": [
        {
          "output_type": "execute_result",
          "data": {
            "text/plain": [
              "12"
            ]
          },
          "metadata": {},
          "execution_count": 97
        }
      ]
    },
    {
      "cell_type": "code",
      "source": [
        "def ab_square(a,b):\n",
        "  return a**2 + 2*a*b + b**2"
      ],
      "metadata": {
        "id": "BaLTF0jjJ7Ib"
      },
      "execution_count": 98,
      "outputs": []
    },
    {
      "cell_type": "code",
      "source": [
        "ab_square(1,3)"
      ],
      "metadata": {
        "colab": {
          "base_uri": "https://localhost:8080/"
        },
        "id": "yHOa0K1GKGQm",
        "outputId": "77c1055e-2b34-4175-f601-59619d4088a4"
      },
      "execution_count": 99,
      "outputs": [
        {
          "output_type": "execute_result",
          "data": {
            "text/plain": [
              "16"
            ]
          },
          "metadata": {},
          "execution_count": 99
        }
      ]
    },
    {
      "cell_type": "code",
      "source": [
        "def welcome(name):\n",
        "  print(f\"Hello {name}, hope you are enjoying the lecture!\")"
      ],
      "metadata": {
        "id": "EiQoA_DmGqAe"
      },
      "execution_count": 100,
      "outputs": []
    },
    {
      "cell_type": "code",
      "source": [
        "welcome(\"John\")"
      ],
      "metadata": {
        "colab": {
          "base_uri": "https://localhost:8080/"
        },
        "id": "3DjNJcEmHgj9",
        "outputId": "6753a475-3f67-481c-ab52-c7c5aee5c6c4"
      },
      "execution_count": 101,
      "outputs": [
        {
          "output_type": "stream",
          "name": "stdout",
          "text": [
            "Hello John, hope you are enjoying the lecture!\n"
          ]
        }
      ]
    },
    {
      "cell_type": "code",
      "source": [
        "welcome(\"Hari\")"
      ],
      "metadata": {
        "id": "zPqEdx1ZHpG7"
      },
      "execution_count": null,
      "outputs": []
    },
    {
      "cell_type": "code",
      "source": [
        "attendees = [\"Satvik\", \"Aditya\", \"Prathmesh\", \"Aaryan\", \"Shiva\"]\n",
        "\n",
        "def welcome(name):\n",
        "  if name in attendees:\n",
        "    print(f\"Hello {name}, hope you are enjoying the lecture!\")\n",
        "  else:\n",
        "    print(f\"Hi {name}, see you next time!\")"
      ],
      "metadata": {
        "id": "qm4E-A4YHw3w"
      },
      "execution_count": 102,
      "outputs": []
    },
    {
      "cell_type": "code",
      "source": [
        "welcome(\"Aditya\")"
      ],
      "metadata": {
        "colab": {
          "base_uri": "https://localhost:8080/"
        },
        "id": "YyGFy7q9ICh0",
        "outputId": "2c2ee099-fdaf-4c90-b2d7-e36240cf8feb"
      },
      "execution_count": 103,
      "outputs": [
        {
          "output_type": "stream",
          "name": "stdout",
          "text": [
            "Hello Aditya, hope you are enjoying the lecture!\n"
          ]
        }
      ]
    },
    {
      "cell_type": "code",
      "source": [
        "welcome(\"Kaushik\")"
      ],
      "metadata": {
        "colab": {
          "base_uri": "https://localhost:8080/"
        },
        "id": "UK_S4duOITxm",
        "outputId": "5c0c28da-1924-422f-e995-c076f2f0b562"
      },
      "execution_count": 104,
      "outputs": [
        {
          "output_type": "stream",
          "name": "stdout",
          "text": [
            "Hi Kaushik, see you next time!\n"
          ]
        }
      ]
    },
    {
      "cell_type": "code",
      "source": [
        "attendee_dict = {\"Satvik\": 60, \"Aditya\": 50, \"Prathmesh\": 2, \"Aaryan\": 40, \"Shiva\": 33}\n",
        "\n",
        "def main_attendee(mydata):\n",
        "  main_list = []\n",
        "  for x in mydata:\n",
        "    if mydata[x] >= 40:\n",
        "      main_list.append(x)\n",
        "\n",
        "  return main_list"
      ],
      "metadata": {
        "id": "_oC9kpDoIWrA"
      },
      "execution_count": 105,
      "outputs": []
    },
    {
      "cell_type": "code",
      "source": [
        "main_attendee(attendee_dict)"
      ],
      "metadata": {
        "colab": {
          "base_uri": "https://localhost:8080/"
        },
        "id": "FSMupQWUJpaj",
        "outputId": "48cd2ea8-ba9f-44a0-bca6-f91670b84831"
      },
      "execution_count": 106,
      "outputs": [
        {
          "output_type": "execute_result",
          "data": {
            "text/plain": [
              "['Satvik', 'Aditya', 'Aaryan']"
            ]
          },
          "metadata": {},
          "execution_count": 106
        }
      ]
    },
    {
      "cell_type": "markdown",
      "source": [
        "Let's generate some practice questions!"
      ],
      "metadata": {
        "id": "uWHf2DSjKrBh"
      }
    },
    {
      "cell_type": "markdown",
      "source": [
        "## Libraries"
      ],
      "metadata": {
        "id": "rdz4vl24LOKf"
      }
    },
    {
      "cell_type": "code",
      "source": [
        "from datetime import datetime\n",
        "\n",
        "print(datetime.now())"
      ],
      "metadata": {
        "colab": {
          "base_uri": "https://localhost:8080/"
        },
        "id": "-hZMqc1kKp-n",
        "outputId": "d270ae1d-1c9a-484a-bbb0-162c122182fb"
      },
      "execution_count": 107,
      "outputs": [
        {
          "output_type": "stream",
          "name": "stdout",
          "text": [
            "2023-09-02 06:41:10.038802\n"
          ]
        }
      ]
    },
    {
      "cell_type": "code",
      "source": [
        "import matplotlib.pyplot as plt\n",
        "\n",
        "# Sample data\n",
        "x = [0, 1, 2, 3, 4, 5]\n",
        "y = [0, 1, 4, 9, 16, 25]\n",
        "\n",
        "# Plot the data\n",
        "plt.plot(x, y, label='y = x^2', color='red', marker='o')"
      ],
      "metadata": {
        "colab": {
          "base_uri": "https://localhost:8080/",
          "height": 448
        },
        "id": "k9OjbjnaJssK",
        "outputId": "06c2b8c3-63d8-4466-ddd9-24e71e3ea63d"
      },
      "execution_count": 109,
      "outputs": [
        {
          "output_type": "execute_result",
          "data": {
            "text/plain": [
              "[<matplotlib.lines.Line2D at 0x7f77e0da4e50>]"
            ]
          },
          "metadata": {},
          "execution_count": 109
        },
        {
          "output_type": "display_data",
          "data": {
            "text/plain": [
              "<Figure size 640x480 with 1 Axes>"
            ],
            "image/png": "[encoded data removed]"
          },
          "metadata": {}
        }
      ]
    },
    {
      "cell_type": "code",
      "source": [
        "plt.bar(x, y, label='y = x^2', color='blue')"
      ],
      "metadata": {
        "colab": {
          "base_uri": "https://localhost:8080/",
          "height": 448
        },
        "id": "ySjVtWUvMRoW",
        "outputId": "b78ef24c-6a10-4c57-e470-d2ed3486c3ed"
      },
      "execution_count": 110,
      "outputs": [
        {
          "output_type": "execute_result",
          "data": {
            "text/plain": [
              "<BarContainer object of 6 artists>"
            ]
          },
          "metadata": {},
          "execution_count": 110
        },
        {
          "output_type": "display_data",
          "data": {
            "text/plain": [
              "<Figure size 640x480 with 1 Axes>"
            ],
            "image/png": "[encoded data removed]"
          },
          "metadata": {}
        }
      ]
    },
    {
      "cell_type": "code",
      "source": [
        "import matplotlib.pyplot as plt\n",
        "\n",
        "# Data to plot\n",
        "labels = 'Python', 'Java', 'C++', 'Ruby'\n",
        "sizes = [215, 130, 245, 210]\n",
        "colors = ['gold', 'yellowgreen', 'lightcoral', 'lightskyblue']\n",
        "explode = (0.1, 0, 0, 0)  # explode 1st slice\n",
        "\n",
        "# Plot\n",
        "plt.pie(sizes, explode=explode, labels=labels, colors=colors,\n",
        "autopct='%1.1f%%', shadow=True, startangle=140)\n",
        "\n",
        "plt.axis('equal')  # Equal aspect ratio ensures that pie is drawn as a circle.\n",
        "plt.show()\n"
      ],
      "metadata": {
        "colab": {
          "base_uri": "https://localhost:8080/",
          "height": 419
        },
        "id": "83A6AqT-oqbG",
        "outputId": "2b01f22a-f247-40d0-fbbd-a38f29009582"
      },
      "execution_count": 111,
      "outputs": [
        {
          "output_type": "display_data",
          "data": {
            "text/plain": [
              "<Figure size 640x480 with 1 Axes>"
            ],
            "image/png": "[encoded data removed]"
          },
          "metadata": {}
        }
      ]
    },
    {
      "cell_type": "markdown",
      "source": [
        "### Using GPT models using Langchain and OpenAI Library"
      ],
      "metadata": {
        "id": "ea9aMsm8Nc6K"
      }
    },
    {
      "cell_type": "code",
      "source": [
        "!pip install -qU langchain openai"
      ],
      "metadata": {
        "id": "VTS7-q-ENM9Z"
      },
      "execution_count": 112,
      "outputs": []
    },
    {
      "cell_type": "code",
      "source": [
        "import os\n",
        "from getpass import getpass\n",
        "\n",
        "os.environ['OPENAI_API_KEY'] = getpass()"
      ],
      "metadata": {
        "colab": {
          "base_uri": "https://localhost:8080/"
        },
        "id": "rkFtI5gFOX-s",
        "outputId": "ce4f5b0c-fd2b-4ac4-fce1-513e967e9307"
      },
      "execution_count": 113,
      "outputs": [
        {
          "name": "stdout",
          "output_type": "stream",
          "text": [
            "··········\n"
          ]
        }
      ]
    },
    {
      "cell_type": "code",
      "source": [
        "# using a LLM to run a query\n",
        "\n",
        "from langchain.llms import OpenAI\n",
        "\n",
        "gpt3_model = OpenAI(model_name = 'text-davinci-003')"
      ],
      "metadata": {
        "id": "GJDh_Zr7Ocip"
      },
      "execution_count": 114,
      "outputs": []
    },
    {
      "cell_type": "code",
      "source": [
        "print(gpt3_model.predict(\"Tell me a story\"))"
      ],
      "metadata": {
        "colab": {
          "base_uri": "https://localhost:8080/"
        },
        "id": "0IxPTDPsOgEm",
        "outputId": "eaa67803-3263-4a43-9836-df92f353ade5"
      },
      "execution_count": 115,
      "outputs": [
        {
          "output_type": "stream",
          "name": "stdout",
          "text": [
            "\n",
            "\n",
            "Once upon a time, there was a young princess named Aurora. She was the daughter of a powerful king and queen, and she lived in a beautiful castle in the countryside. One day, while exploring the forest near her home, she stumbled upon a small cottage in the woods.\n",
            "\n",
            "Inside the cottage, she found an old woman, a witch, who was spinning a spindle of thread. The witch asked Aurora to sit down, and she offered to tell her a story. The witch told Aurora the story of a magical kingdom far away, where people lived in harmony with the animals and the land.\n",
            "\n",
            "The witch also told her that, in this kingdom, a powerful fairy had put a powerful spell on her. The spell would ensure that Aurora would one day find her true love. The witch told her that if she followed her heart, she would find her true love and be blessed with everlasting happiness.\n",
            "\n",
            "Aurora thanked the witch for her story and returned home. She thought about the story often and wondered if it could be true.\n",
            "\n",
            "One day, when she was out in the garden, Aurora saw a handsome prince riding up to the castle. She knew at once that he was her true love. The two fell in love and\n"
          ]
        }
      ]
    },
    {
      "cell_type": "code",
      "source": [],
      "metadata": {
        "id": "8raTQ3x1pOvR"
      },
      "execution_count": null,
      "outputs": []
    }
  ]
}