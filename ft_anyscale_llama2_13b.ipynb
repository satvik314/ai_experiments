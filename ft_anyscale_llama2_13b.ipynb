{
  "nbformat": 4,
  "nbformat_minor": 0,
  "metadata": {
    "colab": {
      "provenance": [],
      "authorship_tag": "ABX9TyPNUcljC97HwLIjdWB4d8e2",
      "include_colab_link": true
    },
    "kernelspec": {
      "name": "python3",
      "display_name": "Python 3"
    },
    "language_info": {
      "name": "python"
    }
  },
  "cells": [
    {
      "cell_type": "markdown",
      "metadata": {
        "id": "view-in-github",
        "colab_type": "text"
      },
      "source": [
        "<a href=\"https://colab.research.google.com/github/satvik314/ai_experiments/blob/main/ft_anyscale_llama2_13b.ipynb\" target=\"_parent\"><img src=\"https://colab.research.google.com/assets/colab-badge.svg\" alt=\"Open In Colab\"/></a>"
      ]
    },
    {
      "cell_type": "code",
      "source": [
        "!pip install -q openai langchain"
      ],
      "metadata": {
        "id": "6VQe8ZYG8fzl"
      },
      "execution_count": 19,
      "outputs": []
    },
    {
      "cell_type": "code",
      "source": [
        "from langchain.chat_models import ChatAny"
      ],
      "metadata": {
        "id": "El0-8UOsOqT-"
      },
      "execution_count": null,
      "outputs": []
    },
    {
      "cell_type": "code",
      "execution_count": 20,
      "metadata": {
        "colab": {
          "base_uri": "https://localhost:8080/"
        },
        "id": "tu0jeb4Y7myc",
        "outputId": "a541a69b-d045-413e-820b-3bb497247795"
      },
      "outputs": [
        {
          "name": "stdout",
          "output_type": "stream",
          "text": [
            "··········\n"
          ]
        }
      ],
      "source": [
        "import os\n",
        "from getpass import getpass\n",
        "import openai\n",
        "\n",
        "openai.api_base = 'https://api.endpoints.anyscale.com/v1'\n",
        "openai.api_key = getpass()"
      ]
    },
    {
      "cell_type": "code",
      "source": [
        "#checking if the data is in correct format\n",
        "\n",
        "import json\n",
        "\n",
        "def is_valid_format(data):\n",
        "    if 'messages' not in data:\n",
        "        return False\n",
        "\n",
        "    for msg in data['messages']:\n",
        "        if 'role' not in msg or 'content' not in msg:\n",
        "            return False\n",
        "        if msg['role'] not in ['user', 'assistant', 'system']:\n",
        "            return False\n",
        "    return True\n",
        "\n",
        "valid = True\n",
        "\n",
        "data_file = \"linkedin_posts_dataset.jsonl\"  #name of the data file\n",
        "\n",
        "with open(data_file, 'r') as file:\n",
        "    for line in file:\n",
        "        json_data = json.loads(line)\n",
        "\n",
        "        if not is_valid_format(json_data):\n",
        "            valid = False\n",
        "            print('Invalid line:', line)\n",
        "            break  # Remove this if you want to check all lines\n",
        "\n",
        "if valid:\n",
        "    print(\"All lines follow the specific pattern.\")\n",
        "else:\n",
        "    print(\"Some lines do not follow the specific pattern.\")"
      ],
      "metadata": {
        "colab": {
          "base_uri": "https://localhost:8080/"
        },
        "id": "76V4pqXRo3ww",
        "outputId": "3224a556-3998-49e6-fa86-0a825ad15187"
      },
      "execution_count": 21,
      "outputs": [
        {
          "output_type": "stream",
          "name": "stdout",
          "text": [
            "All lines follow the specific pattern.\n"
          ]
        }
      ]
    },
    {
      "cell_type": "code",
      "source": [
        "file_create_response = openai.File.create(\n",
        "    file = open(\"/content/linkedin_posts_dataset.jsonl\", \"rb\"),\n",
        "    purpose = 'fine-tune'\n",
        ")\n",
        "\n",
        "\n",
        "print(file_create_response)"
      ],
      "metadata": {
        "colab": {
          "base_uri": "https://localhost:8080/"
        },
        "id": "FXG5yjsA8ekP",
        "outputId": "99273124-4090-4886-851a-c25a1e988795"
      },
      "execution_count": null,
      "outputs": [
        {
          "output_type": "stream",
          "name": "stdout",
          "text": [
            "{\n",
            "  \"id\": \"file_kxuaawn3kb147q931sfvyijz65\",\n",
            "  \"bytes\": 73741,\n",
            "  \"created_at\": \"2023-11-05T02:13:28.297193+00:00\",\n",
            "  \"filename\": \"file\"\n",
            "}\n"
          ]
        }
      ]
    },
    {
      "cell_type": "code",
      "source": [
        "file_create_response['id']"
      ],
      "metadata": {
        "colab": {
          "base_uri": "https://localhost:8080/",
          "height": 35
        },
        "id": "jsvetLAvpqAq",
        "outputId": "1b5f90ff-c306-4a10-9eed-00654fd1d477"
      },
      "execution_count": null,
      "outputs": [
        {
          "output_type": "execute_result",
          "data": {
            "text/plain": [
              "'file_kxuaawn3kb147q931sfvyijz65'"
            ],
            "application/vnd.google.colaboratory.intrinsic+json": {
              "type": "string"
            }
          },
          "metadata": {},
          "execution_count": 10
        }
      ]
    },
    {
      "cell_type": "code",
      "source": [
        "file_id = file_create_response['id']\n",
        "response = openai.FineTuningJob.create(training_file = file_id, model = \"meta-llama/Llama-2-13b-chat-hf\")\n",
        "print(response)"
      ],
      "metadata": {
        "id": "sf1AM40h9G4a",
        "colab": {
          "base_uri": "https://localhost:8080/"
        },
        "outputId": "29165fc6-cc0d-4b64-8614-41cd51f59e22"
      },
      "execution_count": null,
      "outputs": [
        {
          "output_type": "stream",
          "name": "stdout",
          "text": [
            "{\n",
            "  \"result_files\": [],\n",
            "  \"trained_tokens\": null,\n",
            "  \"hyperparameters\": {\n",
            "    \"n_epochs\": null,\n",
            "    \"context_length\": null\n",
            "  },\n",
            "  \"training_file\": \"file_kxuaawn3kb147q931sfvyijz65\",\n",
            "  \"validation_file\": null,\n",
            "  \"model\": \"meta-llama/Llama-2-13b-chat-hf\",\n",
            "  \"id\": \"eftjob_tb9vskkiz88cs98vmzupw4qn7i\",\n",
            "  \"created_at\": \"2023-11-05T02:13:43.548444+00:00\",\n",
            "  \"finished_at\": null,\n",
            "  \"fine_tuned_model\": \"meta-llama/Llama-2-13b-chat-hf:paramkusham:lVvcocT\",\n",
            "  \"status\": \"pending\",\n",
            "  \"error\": null,\n",
            "  \"creator_id\": \"euser_12a5x8inzbbble4wsjhgiu9s38\"\n",
            "}\n"
          ]
        }
      ]
    },
    {
      "cell_type": "code",
      "source": [
        "fine_tune_id = response['id']\n",
        "fine_tune_id"
      ],
      "metadata": {
        "colab": {
          "base_uri": "https://localhost:8080/",
          "height": 35
        },
        "id": "2Qi-wnuzT3vg",
        "outputId": "f03757d8-c187-416c-8bb6-be368ca49b20"
      },
      "execution_count": null,
      "outputs": [
        {
          "output_type": "execute_result",
          "data": {
            "text/plain": [
              "'eftjob_tb9vskkiz88cs98vmzupw4qn7i'"
            ],
            "application/vnd.google.colaboratory.intrinsic+json": {
              "type": "string"
            }
          },
          "metadata": {},
          "execution_count": 12
        }
      ]
    },
    {
      "cell_type": "code",
      "source": [
        "openai.FineTuningJob.retrieve(fine_tune_id)"
      ],
      "metadata": {
        "colab": {
          "base_uri": "https://localhost:8080/"
        },
        "id": "ABuodfyvkDyp",
        "outputId": "e3065479-417d-4a57-a12d-eef11ebdb80a"
      },
      "execution_count": null,
      "outputs": [
        {
          "output_type": "execute_result",
          "data": {
            "text/plain": [
              "<FineTuningJob id=eftjob_tb9vskkiz88cs98vmzupw4qn7i at 0x7d40080fc900> JSON: {\n",
              "  \"result_files\": [\n",
              "    \"file_khju93ypwv4bw3lsumjmq5lwy8\"\n",
              "  ],\n",
              "  \"trained_tokens\": 1812096,\n",
              "  \"hyperparameters\": {\n",
              "    \"n_epochs\": 96,\n",
              "    \"context_length\": 1024\n",
              "  },\n",
              "  \"training_file\": \"file_kxuaawn3kb147q931sfvyijz65\",\n",
              "  \"validation_file\": null,\n",
              "  \"model\": \"meta-llama/Llama-2-13b-chat-hf\",\n",
              "  \"id\": \"eftjob_tb9vskkiz88cs98vmzupw4qn7i\",\n",
              "  \"created_at\": \"2023-11-05T02:13:43.548444+00:00\",\n",
              "  \"finished_at\": \"2023-11-05T02:26:01.323946+00:00\",\n",
              "  \"fine_tuned_model\": \"meta-llama/Llama-2-13b-chat-hf:paramkusham:lVvcocT\",\n",
              "  \"status\": \"succeeded\",\n",
              "  \"error\": null,\n",
              "  \"creator_id\": \"euser_12a5x8inzbbble4wsjhgiu9s38\"\n",
              "}"
            ]
          },
          "metadata": {},
          "execution_count": 14
        }
      ]
    },
    {
      "cell_type": "markdown",
      "source": [
        "Using the fine-tuned model using Langchain"
      ],
      "metadata": {
        "id": "f2-F__qxG6hm"
      }
    },
    {
      "cell_type": "code",
      "source": [
        "import os\n",
        "from getpass import getpass\n",
        "\n",
        "# input anyscale api key\n",
        "os.environ['OPENAI_API_KEY'] = getpass()"
      ],
      "metadata": {
        "colab": {
          "base_uri": "https://localhost:8080/"
        },
        "id": "Rst22Bakz0O9",
        "outputId": "df65a3b5-45c0-427e-d866-d6d5cd6ae241"
      },
      "execution_count": 22,
      "outputs": [
        {
          "name": "stdout",
          "output_type": "stream",
          "text": [
            "··········\n"
          ]
        }
      ]
    },
    {
      "cell_type": "code",
      "source": [
        "from langchain.chat_models import ChatOpenAI\n",
        "from langchain.schema import HumanMessage\n",
        "\n",
        "# amar_model = \"ft:gpt-3.5-turbo-0613:personal::7tf130i3\"\n",
        "linkedin_ghost_model = \"meta-llama/Llama-2-13b-chat-hf:paramkusham:lVvcocT\"\n",
        "\n",
        "\n",
        "\n",
        "llm_normal = ChatOpenAI(model = \"meta-llama/Llama-2-13b-chat-hf\" ,\n",
        "                openai_api_base = openai.api_base)\n",
        "llm = ChatOpenAI(model = linkedin_ghost_model ,\n",
        "                openai_api_base = openai.api_base)\n",
        "\n",
        "def run_llm(prompt):\n",
        "  messages = [\n",
        "      HumanMessage(content = prompt)\n",
        "  ]\n",
        "\n",
        "  response = llm(messages)\n",
        "  return response.content"
      ],
      "metadata": {
        "id": "fMAWSrk3_trc"
      },
      "execution_count": null,
      "outputs": []
    },
    {
      "cell_type": "code",
      "source": [
        "print(llm_normal.predict(\"Write a LinkedIn post like Amar Srivastava on how Uber approaches product design\"))"
      ],
      "metadata": {
        "colab": {
          "base_uri": "https://localhost:8080/"
        },
        "id": "I2RJ9z4aoCl5",
        "outputId": "3c8ab41a-383e-4f82-8f99-dc796bc15ba2"
      },
      "execution_count": null,
      "outputs": [
        {
          "output_type": "stream",
          "name": "stdout",
          "text": [
            "  Hey there, fellow product design enthusiasts! 🚀\n",
            "\n",
            "I recently had the opportunity to visit Uber's headquarters and learn about their approach to product design. As a fan of Amar Srivastava's work, I was excited to see how his principles of \"Designing for Delight\" are put into practice at one of the world's most innovative companies. 🌟\n",
            "\n",
            "Here are some key takeaways from my visit:\n",
            "\n",
            "1️⃣ \"Design is a mindset, not a department\": At Uber, design is not just a function of the product development process, but a way of thinking that permeates the entire organization. This means that designers work closely with engineers, data scientists, and other stakeholders to ensure that products are both functional and delightful. 💡\n",
            "\n",
            "2️⃣ \"Delight is a measure of success\": Uber's product designers are obsessed with creating experiences that delight users. They use metrics like NPS (Net Promoter Score) and CSAT (Customer Satisfaction) to measure the success of their designs, and they constantly iterate to improve these metrics. 📈\n",
            "\n",
            "3️⃣ \"The user is the primary stakeholder\": At Uber, the user is at the center of all product design decisions. Designers spend time with users, observe their behavior, and gather feedback to ensure that they are creating products that meet their needs and expectations. 👥\n",
            "\n",
            "4️⃣ \"Design is a form of storytelling\": Uber's product designers use storytelling techniques to bring their products to life. They create user personas, wireframes, and prototypes that help users understand the value of the product and how it will fit into their lives. ✍️\n",
            "\n",
            "5️⃣ \"The product is the sum of its parts\": Uber's product designers understand that the product is not just about the individual components, but how they work together to create a seamless and delightful experience. They obsess over the details, like micro-interactions and animations, to make the product feel cohesive and intuitive. 🔨\n",
            "\n",
            "Overall, my visit to Uber reinforced the importance of designing for delight and the need to put the user at the center of all product design decisions. As Amar Srivastava says, \"Design is not just about making something look pretty, it's about creating a product that people want to use.\" 💪\n",
            "\n",
            "What are some of your favorite principles of product design? Share them in the comments below! 💬\n",
            "\n",
            "#productdesign #designfor delight #Uber #AmarSrivastava #delightfulproducts #usercentereddesign\n"
          ]
        }
      ]
    },
    {
      "cell_type": "code",
      "source": [
        "print(run_llm(\"Write a LinkedIn post like Amar Srivastava on how Uber approaches product design\"))"
      ],
      "metadata": {
        "id": "5iyWTO8IeluE",
        "colab": {
          "base_uri": "https://localhost:8080/"
        },
        "outputId": "d70e5199-f14d-46ab-f15c-84d65758c92c"
      },
      "execution_count": null,
      "outputs": [
        {
          "output_type": "stream",
          "name": "stdout",
          "text": [
            " Uber's design team has grown by 100x in the last 3 years, a testament to the importance of design in building customer experience. But what is it that makes Uber's design approach stand out, and how can we learn from the same for our own #products?\n",
            "\n",
            "Uber's design approach can be broken down into 3 key components:\n",
            "\n",
            "1️⃣ 'Customer-First' Approach: Uber's design is centered around the user's needs, mirroring the company's primary focus on customer satisfaction. This approach involves understanding user needs, creating prototypes, and testing them with users to gather feedback.\n",
            "\n",
            "2️⃣ 'Data-Driven' Design: Uber's design decisions are guided by data and insights. The design team uses A/B testing and other analytical methods to determine which design elements work best for the users.\n",
            "\n",
            "3️⃣ 'Continuous Iteration' : Uber's design is continuously refined based on user feedback and data insights, emphasizing the importance of iterative design.\n",
            "\n",
            "These 3 principles are the foundation of Uber's design language, and they have played a critical role in Uber's exponential growth.\n",
            "\n",
            "So, what can we as #productmanagers and #productdesigners learn from Uber's design approach and apply the same in our own products?\n",
            "\n",
            "✅ Emphasize Customer Satisfaction: Put yourself in the user's shoes and prioritize their needs above all else.\n",
            "\n",
            "✅ Use Data to Drive Decisions: Continuously gather and analyze data on user behavior to inform design decisions.\n",
            "\n",
            "✅ Embrace Continuous Iteration: Regularly test and refine your design to ensure it meets evolving user needs.\n",
            "\n",
            "✅ Foster Collaboration: Work closely with cross-functional teams, including engineering and data analytics, to ensure a seamless user experience.\n",
            "\n",
            "✅ Prioritize Simplicity: Keep the design simple and intuitive, making it easy for users to interact with the product.\n",
            "\n",
            "✅ Put User Experience over Features: Don’t just add features for the heck of it. Instead, focus on creating a seamless user experience that delights your customers.\n",
            "\n",
            "Uber's design approach is not just about aesthetics; it's a strategic decision driven by the need to deliver an exceptional user experience. By prioritizing user needs, leveraging data, and embracing continuous iteration, product managers and designers can create products that not only look great but also drive business results.\n",
            "\n",
            "#productdesign #userexperience #uxdesign #productmanagement #designprinciples #ux  \n"
          ]
        }
      ]
    },
    {
      "cell_type": "code",
      "source": [],
      "metadata": {
        "id": "ahqUIszZqieM"
      },
      "execution_count": null,
      "outputs": []
    }
  ]
}